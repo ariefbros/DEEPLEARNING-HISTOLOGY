{
  "nbformat": 4,
  "nbformat_minor": 0,
  "metadata": {
    "colab": {
      "name": "Transfer Learning+XGBoost (Breast Histopathology)",
      "provenance": [],
      "collapsed_sections": []
    },
    "kernelspec": {
      "name": "python3",
      "display_name": "Python 3"
    },
    "accelerator": "GPU"
  },
  "cells": [
    {
      "cell_type": "markdown",
      "metadata": {
        "id": "AdUbRfMAvqZ6"
      },
      "source": [
        "#  AI Pathologist \n",
        "## For Invasive Ductal Carcinoma Detection"
      ]
    },
    {
      "cell_type": "markdown",
      "metadata": {
        "id": "ImpGvMnW3MAl"
      },
      "source": [
        "### Background\n",
        "\n",
        "Invasive ductal carcinoma (IDC), also known as infiltrating ductal carcinoma, is cancer that began growing in a milk duct and has invaded the fibrous or fatty tissue of the breast outside of the duct. \n",
        "\n",
        "Invasive means that the cancer has “invaded” or spread to the surrounding breast tissues. \n",
        "\n",
        "Ductal means that the cancer began in the milk ducts, which are the “pipes” that carry milk from the milk-producing lobules to the nipple. \n",
        "\n",
        "Carcinoma refers to any cancer that begins in the skin or other tissues that cover internal organs, such as breast tissue. \n",
        "\n",
        "All together, “invasive ductal carcinoma” refers to cancer that has broken through the walls of the milk ducts and begun to invade the tissues of the breast. \n",
        "\n",
        "Over time, invasive ductal carcinoma can spread to the lymph nodes and possibly to other areas of the body. \n",
        "\n",
        "IDC starts in the cells that line a milk duct in the breast, breaks through the wall of the duct, and grows into the nearby breast tissues. \n",
        "\n",
        "At this point, it may be able to spread (metastasize) to other parts of the body through the lymph system and bloodstream.\n",
        "\n",
        "According to the American Cancer Society, about two-thirds of women are 55 or older when they are diagnosed with invasive breast cancer. \n",
        "\n",
        "Invasive ductal carcinoma also affects men."
      ]
    },
    {
      "cell_type": "markdown",
      "metadata": {
        "id": "m4bg9H663jbM"
      },
      "source": [
        "### Problem\n",
        "\n",
        "More women are diagnosed with breast cancer than any other cancer, besides skin cancer. \n",
        "\n",
        "As with any breast cancer, there may be no signs or symptoms. \n",
        "\n",
        "Invasive ductal carcinoma is the most common form of invasive breast cancer and represents 80 percent of breast cancer cases/diagnoses.\n",
        "\n",
        "A mammogram may reveal a suspicious mass, which will lead to further testing including biopsies, which involve taking out some or all of the abnormal-looking tissue for examination by a pathologist (a doctor trained to diagnose cancer from biopsy samples) under a microscope. \n",
        "\n",
        "More than 1 million women have breast biopsies each year in the United States. \n",
        "\n",
        "About 20 percent of these biopsies yield a diagnosis of breast cancer. \n",
        "\n",
        "This year, an estimated 268,600 women in the United States will be diagnosed with invasive breast cancer and 2,670 men in the United States will be diagnosed with breast cancer.\n",
        "\n",
        "It is estimated that 42,260 deaths (41,760 women and 500 men) from breast cancer will occur this year. "
      ]
    },
    {
      "cell_type": "markdown",
      "metadata": {
        "id": "tt0lYPCA4S4K"
      },
      "source": [
        "### Data\n",
        "\n",
        "I used the 1.64GB breast histopathology image dataset provided by Kaggle: https://www.kaggle.com/paultimothymooney/breast-histopathology-images \n",
        "\n",
        "The original dataset consisted of 162 whole mount slide images of Breast Cancer (BCa) specimens scanned at 40x.\n",
        "\n",
        "From that, 277,524 patches of size 50 x 50 were extracted (198,738 IDC negative and 78,786 IDC positive). \n",
        "\n",
        "These pictures could be fed into an algorithm which would be able to classify whether invasive ductal carcinoma is present in an image."
      ]
    },
    {
      "cell_type": "markdown",
      "metadata": {
        "id": "ylSPF-Dg4tX2"
      },
      "source": [
        "### References\n",
        "\n",
        "Breast Biopsy - \n",
        "https://www.choosingwisely.org/patient-resources/breast-biopsy/\n",
        "\n",
        "Breast Cancer - Statistics - \n",
        "https://www.cancer.net/cancer-types/breast-cancer/statistics\n",
        "\n",
        "Breast Histopathology Images - Paul Mooney - \n",
        "https://www.kaggle.com/paultimothymooney/breast-histopathology-images\n",
        "\n",
        "Information and Resources About For Cancer: Breast, Colon, Lung, Prostate, Skin - \n",
        "https://www.cancer.org/\n",
        "\n",
        "Invasive Ductal Carcinoma: Diagnosis, Treatment, and More - \n",
        "https://www.breastcancer.org/symptoms/types/idc\n",
        "\n",
        "Invasive Ductal Carcinoma (idc) Breast Cancer: Johns Hopkins Breast Center - Ken Brown -https://www.hopkinsmedicine.org/breast_center/breast_cancers_other_conditions/invasive_ductal_carcinoma.html"
      ]
    },
    {
      "cell_type": "markdown",
      "metadata": {
        "id": "tC433t0NrwPG"
      },
      "source": [
        "## Imports and Dependencies\n"
      ]
    },
    {
      "cell_type": "code",
      "metadata": {
        "id": "SA6U_ROIQZ-K"
      },
      "source": [
        "import pandas as pd\n",
        "import numpy as np\n",
        "import matplotlib.image as mpimg\n",
        "import matplotlib.pyplot as plt\n",
        "from matplotlib import pyplot\n",
        "%matplotlib inline\n",
        "import seaborn as sns\n",
        "import os\n",
        "from os.path import isfile\n",
        "import tensorflow as tf\n",
        "import keras\n",
        "from keras.utils import np_utils\n",
        "import itertools\n",
        "import shutil\n",
        "np.random.seed(42)\n",
        "from PIL import Image\n",
        "from PIL import ImageFile\n",
        "ImageFile.LOAD_TRUNCATED_IMAGES = True"
      ],
      "execution_count": 1,
      "outputs": []
    },
    {
      "cell_type": "code",
      "metadata": {
        "id": "TLZ5nujxue1m",
        "outputId": "4bd46380-2b34-4b97-c18c-bec048139e3e",
        "colab": {
          "base_uri": "https://localhost:8080/",
          "height": 34
        }
      },
      "source": [
        "tf.__version__"
      ],
      "execution_count": 2,
      "outputs": [
        {
          "output_type": "execute_result",
          "data": {
            "application/vnd.google.colaboratory.intrinsic+json": {
              "type": "string"
            },
            "text/plain": [
              "'2.3.0'"
            ]
          },
          "metadata": {
            "tags": []
          },
          "execution_count": 2
        }
      ]
    },
    {
      "cell_type": "code",
      "metadata": {
        "id": "VrEgMyasQdf5",
        "outputId": "179d71d4-8c11-40a5-f669-44b93676a4b6",
        "colab": {
          "base_uri": "https://localhost:8080/",
          "height": 34
        }
      },
      "source": [
        "tf.keras.__version__"
      ],
      "execution_count": 3,
      "outputs": [
        {
          "output_type": "execute_result",
          "data": {
            "application/vnd.google.colaboratory.intrinsic+json": {
              "type": "string"
            },
            "text/plain": [
              "'2.4.0'"
            ]
          },
          "metadata": {
            "tags": []
          },
          "execution_count": 3
        }
      ]
    },
    {
      "cell_type": "markdown",
      "metadata": {
        "id": "CVZ6RKBisuYL"
      },
      "source": [
        "## Data Extraction"
      ]
    },
    {
      "cell_type": "markdown",
      "metadata": {
        "id": "CqGi8_bW5Kx4"
      },
      "source": [
        "### Unzip uploaded file"
      ]
    },
    {
      "cell_type": "code",
      "metadata": {
        "id": "ns5qcERM7Hgu",
        "outputId": "8081d724-4301-48d0-bc74-4e67a67ec38e",
        "colab": {
          "base_uri": "https://localhost:8080/",
          "height": 33
        }
      },
      "source": [
        "# upload zipped 'IDC_regular_ps50_idx5.zip' before this step\n",
        "!unzip -o -q 'IDC_regular_ps50_idx5.zip'\n",
        "\n",
        "# -f  freshen existing files, create none\n",
        "# -n  never overwrite existing files\n",
        "# -q  quiet mode (-qq => quieter)\n",
        "# -o  overwrite files WITHOUT prompting"
      ],
      "execution_count": 4,
      "outputs": [
        {
          "output_type": "stream",
          "text": [
            "unzip:  cannot find or open IDC_regular_ps50_idx5.zip, IDC_regular_ps50_idx5.zip.zip or IDC_regular_ps50_idx5.zip.ZIP.\n"
          ],
          "name": "stdout"
        }
      ]
    },
    {
      "cell_type": "markdown",
      "metadata": {
        "id": "Kn9Ls4UF5OuM"
      },
      "source": [
        "### Unzip file directly from Kaggle (saves personal storage and uploads to Colab faster)\n",
        "\n",
        "A token is required from Kaggle - 'kaggle.json'\n",
        "\n",
        "To obtain the token, go to kaggle.com > Your Profile (Profile Icon) > My Account > API > Create New API Token"
      ]
    },
    {
      "cell_type": "code",
      "metadata": {
        "id": "glRtlpqd5Urg"
      },
      "source": [
        "!pip3 -q install kaggle"
      ],
      "execution_count": 5,
      "outputs": []
    },
    {
      "cell_type": "code",
      "metadata": {
        "id": "2Iz-YTmR6QAL",
        "outputId": "ca38514a-f9f3-490f-d452-253f8092ccc8",
        "colab": {
          "resources": {
            "http://localhost:8080/nbextensions/google.colab/files.js": {
              "data": "Ly8gQ29weXJpZ2h0IDIwMTcgR29vZ2xlIExMQwovLwovLyBMaWNlbnNlZCB1bmRlciB0aGUgQXBhY2hlIExpY2Vuc2UsIFZlcnNpb24gMi4wICh0aGUgIkxpY2Vuc2UiKTsKLy8geW91IG1heSBub3QgdXNlIHRoaXMgZmlsZSBleGNlcHQgaW4gY29tcGxpYW5jZSB3aXRoIHRoZSBMaWNlbnNlLgovLyBZb3UgbWF5IG9idGFpbiBhIGNvcHkgb2YgdGhlIExpY2Vuc2UgYXQKLy8KLy8gICAgICBodHRwOi8vd3d3LmFwYWNoZS5vcmcvbGljZW5zZXMvTElDRU5TRS0yLjAKLy8KLy8gVW5sZXNzIHJlcXVpcmVkIGJ5IGFwcGxpY2FibGUgbGF3IG9yIGFncmVlZCB0byBpbiB3cml0aW5nLCBzb2Z0d2FyZQovLyBkaXN0cmlidXRlZCB1bmRlciB0aGUgTGljZW5zZSBpcyBkaXN0cmlidXRlZCBvbiBhbiAiQVMgSVMiIEJBU0lTLAovLyBXSVRIT1VUIFdBUlJBTlRJRVMgT1IgQ09ORElUSU9OUyBPRiBBTlkgS0lORCwgZWl0aGVyIGV4cHJlc3Mgb3IgaW1wbGllZC4KLy8gU2VlIHRoZSBMaWNlbnNlIGZvciB0aGUgc3BlY2lmaWMgbGFuZ3VhZ2UgZ292ZXJuaW5nIHBlcm1pc3Npb25zIGFuZAovLyBsaW1pdGF0aW9ucyB1bmRlciB0aGUgTGljZW5zZS4KCi8qKgogKiBAZmlsZW92ZXJ2aWV3IEhlbHBlcnMgZm9yIGdvb2dsZS5jb2xhYiBQeXRob24gbW9kdWxlLgogKi8KKGZ1bmN0aW9uKHNjb3BlKSB7CmZ1bmN0aW9uIHNwYW4odGV4dCwgc3R5bGVBdHRyaWJ1dGVzID0ge30pIHsKICBjb25zdCBlbGVtZW50ID0gZG9jdW1lbnQuY3JlYXRlRWxlbWVudCgnc3BhbicpOwogIGVsZW1lbnQudGV4dENvbnRlbnQgPSB0ZXh0OwogIGZvciAoY29uc3Qga2V5IG9mIE9iamVjdC5rZXlzKHN0eWxlQXR0cmlidXRlcykpIHsKICAgIGVsZW1lbnQuc3R5bGVba2V5XSA9IHN0eWxlQXR0cmlidXRlc1trZXldOwogIH0KICByZXR1cm4gZWxlbWVudDsKfQoKLy8gTWF4IG51bWJlciBvZiBieXRlcyB3aGljaCB3aWxsIGJlIHVwbG9hZGVkIGF0IGEgdGltZS4KY29uc3QgTUFYX1BBWUxPQURfU0laRSA9IDEwMCAqIDEwMjQ7CgpmdW5jdGlvbiBfdXBsb2FkRmlsZXMoaW5wdXRJZCwgb3V0cHV0SWQpIHsKICBjb25zdCBzdGVwcyA9IHVwbG9hZEZpbGVzU3RlcChpbnB1dElkLCBvdXRwdXRJZCk7CiAgY29uc3Qgb3V0cHV0RWxlbWVudCA9IGRvY3VtZW50LmdldEVsZW1lbnRCeUlkKG91dHB1dElkKTsKICAvLyBDYWNoZSBzdGVwcyBvbiB0aGUgb3V0cHV0RWxlbWVudCB0byBtYWtlIGl0IGF2YWlsYWJsZSBmb3IgdGhlIG5leHQgY2FsbAogIC8vIHRvIHVwbG9hZEZpbGVzQ29udGludWUgZnJvbSBQeXRob24uCiAgb3V0cHV0RWxlbWVudC5zdGVwcyA9IHN0ZXBzOwoKICByZXR1cm4gX3VwbG9hZEZpbGVzQ29udGludWUob3V0cHV0SWQpOwp9CgovLyBUaGlzIGlzIHJvdWdobHkgYW4gYXN5bmMgZ2VuZXJhdG9yIChub3Qgc3VwcG9ydGVkIGluIHRoZSBicm93c2VyIHlldCksCi8vIHdoZXJlIHRoZXJlIGFyZSBtdWx0aXBsZSBhc3luY2hyb25vdXMgc3RlcHMgYW5kIHRoZSBQeXRob24gc2lkZSBpcyBnb2luZwovLyB0byBwb2xsIGZvciBjb21wbGV0aW9uIG9mIGVhY2ggc3RlcC4KLy8gVGhpcyB1c2VzIGEgUHJvbWlzZSB0byBibG9jayB0aGUgcHl0aG9uIHNpZGUgb24gY29tcGxldGlvbiBvZiBlYWNoIHN0ZXAsCi8vIHRoZW4gcGFzc2VzIHRoZSByZXN1bHQgb2YgdGhlIHByZXZpb3VzIHN0ZXAgYXMgdGhlIGlucHV0IHRvIHRoZSBuZXh0IHN0ZXAuCmZ1bmN0aW9uIF91cGxvYWRGaWxlc0NvbnRpbnVlKG91dHB1dElkKSB7CiAgY29uc3Qgb3V0cHV0RWxlbWVudCA9IGRvY3VtZW50LmdldEVsZW1lbnRCeUlkKG91dHB1dElkKTsKICBjb25zdCBzdGVwcyA9IG91dHB1dEVsZW1lbnQuc3RlcHM7CgogIGNvbnN0IG5leHQgPSBzdGVwcy5uZXh0KG91dHB1dEVsZW1lbnQubGFzdFByb21pc2VWYWx1ZSk7CiAgcmV0dXJuIFByb21pc2UucmVzb2x2ZShuZXh0LnZhbHVlLnByb21pc2UpLnRoZW4oKHZhbHVlKSA9PiB7CiAgICAvLyBDYWNoZSB0aGUgbGFzdCBwcm9taXNlIHZhbHVlIHRvIG1ha2UgaXQgYXZhaWxhYmxlIHRvIHRoZSBuZXh0CiAgICAvLyBzdGVwIG9mIHRoZSBnZW5lcmF0b3IuCiAgICBvdXRwdXRFbGVtZW50Lmxhc3RQcm9taXNlVmFsdWUgPSB2YWx1ZTsKICAgIHJldHVybiBuZXh0LnZhbHVlLnJlc3BvbnNlOwogIH0pOwp9CgovKioKICogR2VuZXJhdG9yIGZ1bmN0aW9uIHdoaWNoIGlzIGNhbGxlZCBiZXR3ZWVuIGVhY2ggYXN5bmMgc3RlcCBvZiB0aGUgdXBsb2FkCiAqIHByb2Nlc3MuCiAqIEBwYXJhbSB7c3RyaW5nfSBpbnB1dElkIEVsZW1lbnQgSUQgb2YgdGhlIGlucHV0IGZpbGUgcGlja2VyIGVsZW1lbnQuCiAqIEBwYXJhbSB7c3RyaW5nfSBvdXRwdXRJZCBFbGVtZW50IElEIG9mIHRoZSBvdXRwdXQgZGlzcGxheS4KICogQHJldHVybiB7IUl0ZXJhYmxlPCFPYmplY3Q+fSBJdGVyYWJsZSBvZiBuZXh0IHN0ZXBzLgogKi8KZnVuY3Rpb24qIHVwbG9hZEZpbGVzU3RlcChpbnB1dElkLCBvdXRwdXRJZCkgewogIGNvbnN0IGlucHV0RWxlbWVudCA9IGRvY3VtZW50LmdldEVsZW1lbnRCeUlkKGlucHV0SWQpOwogIGlucHV0RWxlbWVudC5kaXNhYmxlZCA9IGZhbHNlOwoKICBjb25zdCBvdXRwdXRFbGVtZW50ID0gZG9jdW1lbnQuZ2V0RWxlbWVudEJ5SWQob3V0cHV0SWQpOwogIG91dHB1dEVsZW1lbnQuaW5uZXJIVE1MID0gJyc7CgogIGNvbnN0IHBpY2tlZFByb21pc2UgPSBuZXcgUHJvbWlzZSgocmVzb2x2ZSkgPT4gewogICAgaW5wdXRFbGVtZW50LmFkZEV2ZW50TGlzdGVuZXIoJ2NoYW5nZScsIChlKSA9PiB7CiAgICAgIHJlc29sdmUoZS50YXJnZXQuZmlsZXMpOwogICAgfSk7CiAgfSk7CgogIGNvbnN0IGNhbmNlbCA9IGRvY3VtZW50LmNyZWF0ZUVsZW1lbnQoJ2J1dHRvbicpOwogIGlucHV0RWxlbWVudC5wYXJlbnRFbGVtZW50LmFwcGVuZENoaWxkKGNhbmNlbCk7CiAgY2FuY2VsLnRleHRDb250ZW50ID0gJ0NhbmNlbCB1cGxvYWQnOwogIGNvbnN0IGNhbmNlbFByb21pc2UgPSBuZXcgUHJvbWlzZSgocmVzb2x2ZSkgPT4gewogICAgY2FuY2VsLm9uY2xpY2sgPSAoKSA9PiB7CiAgICAgIHJlc29sdmUobnVsbCk7CiAgICB9OwogIH0pOwoKICAvLyBXYWl0IGZvciB0aGUgdXNlciB0byBwaWNrIHRoZSBmaWxlcy4KICBjb25zdCBmaWxlcyA9IHlpZWxkIHsKICAgIHByb21pc2U6IFByb21pc2UucmFjZShbcGlja2VkUHJvbWlzZSwgY2FuY2VsUHJvbWlzZV0pLAogICAgcmVzcG9uc2U6IHsKICAgICAgYWN0aW9uOiAnc3RhcnRpbmcnLAogICAgfQogIH07CgogIGNhbmNlbC5yZW1vdmUoKTsKCiAgLy8gRGlzYWJsZSB0aGUgaW5wdXQgZWxlbWVudCBzaW5jZSBmdXJ0aGVyIHBpY2tzIGFyZSBub3QgYWxsb3dlZC4KICBpbnB1dEVsZW1lbnQuZGlzYWJsZWQgPSB0cnVlOwoKICBpZiAoIWZpbGVzKSB7CiAgICByZXR1cm4gewogICAgICByZXNwb25zZTogewogICAgICAgIGFjdGlvbjogJ2NvbXBsZXRlJywKICAgICAgfQogICAgfTsKICB9CgogIGZvciAoY29uc3QgZmlsZSBvZiBmaWxlcykgewogICAgY29uc3QgbGkgPSBkb2N1bWVudC5jcmVhdGVFbGVtZW50KCdsaScpOwogICAgbGkuYXBwZW5kKHNwYW4oZmlsZS5uYW1lLCB7Zm9udFdlaWdodDogJ2JvbGQnfSkpOwogICAgbGkuYXBwZW5kKHNwYW4oCiAgICAgICAgYCgke2ZpbGUudHlwZSB8fCAnbi9hJ30pIC0gJHtmaWxlLnNpemV9IGJ5dGVzLCBgICsKICAgICAgICBgbGFzdCBtb2RpZmllZDogJHsKICAgICAgICAgICAgZmlsZS5sYXN0TW9kaWZpZWREYXRlID8gZmlsZS5sYXN0TW9kaWZpZWREYXRlLnRvTG9jYWxlRGF0ZVN0cmluZygpIDoKICAgICAgICAgICAgICAgICAgICAgICAgICAgICAgICAgICAgJ24vYSd9IC0gYCkpOwogICAgY29uc3QgcGVyY2VudCA9IHNwYW4oJzAlIGRvbmUnKTsKICAgIGxpLmFwcGVuZENoaWxkKHBlcmNlbnQpOwoKICAgIG91dHB1dEVsZW1lbnQuYXBwZW5kQ2hpbGQobGkpOwoKICAgIGNvbnN0IGZpbGVEYXRhUHJvbWlzZSA9IG5ldyBQcm9taXNlKChyZXNvbHZlKSA9PiB7CiAgICAgIGNvbnN0IHJlYWRlciA9IG5ldyBGaWxlUmVhZGVyKCk7CiAgICAgIHJlYWRlci5vbmxvYWQgPSAoZSkgPT4gewogICAgICAgIHJlc29sdmUoZS50YXJnZXQucmVzdWx0KTsKICAgICAgfTsKICAgICAgcmVhZGVyLnJlYWRBc0FycmF5QnVmZmVyKGZpbGUpOwogICAgfSk7CiAgICAvLyBXYWl0IGZvciB0aGUgZGF0YSB0byBiZSByZWFkeS4KICAgIGxldCBmaWxlRGF0YSA9IHlpZWxkIHsKICAgICAgcHJvbWlzZTogZmlsZURhdGFQcm9taXNlLAogICAgICByZXNwb25zZTogewogICAgICAgIGFjdGlvbjogJ2NvbnRpbnVlJywKICAgICAgfQogICAgfTsKCiAgICAvLyBVc2UgYSBjaHVua2VkIHNlbmRpbmcgdG8gYXZvaWQgbWVzc2FnZSBzaXplIGxpbWl0cy4gU2VlIGIvNjIxMTU2NjAuCiAgICBsZXQgcG9zaXRpb24gPSAwOwogICAgd2hpbGUgKHBvc2l0aW9uIDwgZmlsZURhdGEuYnl0ZUxlbmd0aCkgewogICAgICBjb25zdCBsZW5ndGggPSBNYXRoLm1pbihmaWxlRGF0YS5ieXRlTGVuZ3RoIC0gcG9zaXRpb24sIE1BWF9QQVlMT0FEX1NJWkUpOwogICAgICBjb25zdCBjaHVuayA9IG5ldyBVaW50OEFycmF5KGZpbGVEYXRhLCBwb3NpdGlvbiwgbGVuZ3RoKTsKICAgICAgcG9zaXRpb24gKz0gbGVuZ3RoOwoKICAgICAgY29uc3QgYmFzZTY0ID0gYnRvYShTdHJpbmcuZnJvbUNoYXJDb2RlLmFwcGx5KG51bGwsIGNodW5rKSk7CiAgICAgIHlpZWxkIHsKICAgICAgICByZXNwb25zZTogewogICAgICAgICAgYWN0aW9uOiAnYXBwZW5kJywKICAgICAgICAgIGZpbGU6IGZpbGUubmFtZSwKICAgICAgICAgIGRhdGE6IGJhc2U2NCwKICAgICAgICB9LAogICAgICB9OwogICAgICBwZXJjZW50LnRleHRDb250ZW50ID0KICAgICAgICAgIGAke01hdGgucm91bmQoKHBvc2l0aW9uIC8gZmlsZURhdGEuYnl0ZUxlbmd0aCkgKiAxMDApfSUgZG9uZWA7CiAgICB9CiAgfQoKICAvLyBBbGwgZG9uZS4KICB5aWVsZCB7CiAgICByZXNwb25zZTogewogICAgICBhY3Rpb246ICdjb21wbGV0ZScsCiAgICB9CiAgfTsKfQoKc2NvcGUuZ29vZ2xlID0gc2NvcGUuZ29vZ2xlIHx8IHt9OwpzY29wZS5nb29nbGUuY29sYWIgPSBzY29wZS5nb29nbGUuY29sYWIgfHwge307CnNjb3BlLmdvb2dsZS5jb2xhYi5fZmlsZXMgPSB7CiAgX3VwbG9hZEZpbGVzLAogIF91cGxvYWRGaWxlc0NvbnRpbnVlLAp9Owp9KShzZWxmKTsK",
              "ok": true,
              "headers": [
                [
                  "content-type",
                  "application/javascript"
                ]
              ],
              "status": 200,
              "status_text": ""
            }
          },
          "base_uri": "https://localhost:8080/",
          "height": 88
        }
      },
      "source": [
        "# upload kaggle token 'kaggle.json'\n",
        "from google.colab import files\n",
        "files.upload()"
      ],
      "execution_count": 6,
      "outputs": [
        {
          "output_type": "display_data",
          "data": {
            "text/html": [
              "\n",
              "     <input type=\"file\" id=\"files-db0ed4df-1c3a-41ff-9785-ec87349e9830\" name=\"files[]\" multiple disabled\n",
              "        style=\"border:none\" />\n",
              "     <output id=\"result-db0ed4df-1c3a-41ff-9785-ec87349e9830\">\n",
              "      Upload widget is only available when the cell has been executed in the\n",
              "      current browser session. Please rerun this cell to enable.\n",
              "      </output>\n",
              "      <script src=\"/nbextensions/google.colab/files.js\"></script> "
            ],
            "text/plain": [
              "<IPython.core.display.HTML object>"
            ]
          },
          "metadata": {
            "tags": []
          }
        },
        {
          "output_type": "stream",
          "text": [
            "Saving kaggle.json to kaggle.json\n"
          ],
          "name": "stdout"
        },
        {
          "output_type": "execute_result",
          "data": {
            "text/plain": [
              "{'kaggle.json': b'{\"username\":\"ariefbros\",\"key\":\"964d79f1a6e3e4c58f4e622a24ca1ca8\"}'}"
            ]
          },
          "metadata": {
            "tags": []
          },
          "execution_count": 6
        }
      ]
    },
    {
      "cell_type": "code",
      "metadata": {
        "id": "0TkFKR6g6TiB",
        "outputId": "6625e913-e312-43f6-c914-04de64cc38f9",
        "colab": {
          "base_uri": "https://localhost:8080/",
          "height": 33
        }
      },
      "source": [
        "!mkdir -p ~/.kaggle/ && mv kaggle.json ~/.kaggle/ && chmod 600 ~/kaggle/kaggle.json"
      ],
      "execution_count": 7,
      "outputs": [
        {
          "output_type": "stream",
          "text": [
            "chmod: cannot access '/root/kaggle/kaggle.json': No such file or directory\n"
          ],
          "name": "stdout"
        }
      ]
    },
    {
      "cell_type": "code",
      "metadata": {
        "id": "foYJz6o36WjW",
        "outputId": "c58822cc-4f3e-47fd-c39e-2d9a58ee6b16",
        "colab": {
          "base_uri": "https://localhost:8080/",
          "height": 83
        }
      },
      "source": [
        "!kaggle datasets download -d paultimothymooney/breast-histopathology-images"
      ],
      "execution_count": 8,
      "outputs": [
        {
          "output_type": "stream",
          "text": [
            "Warning: Your Kaggle API key is readable by other users on this system! To fix this, you can run 'chmod 600 /root/.kaggle/kaggle.json'\n",
            "Downloading breast-histopathology-images.zip to /content\n",
            " 99% 3.08G/3.10G [01:15<00:00, 33.2MB/s]\n",
            "100% 3.10G/3.10G [01:15<00:00, 44.0MB/s]\n"
          ],
          "name": "stdout"
        }
      ]
    },
    {
      "cell_type": "code",
      "metadata": {
        "id": "6AN9OjfK7LSf",
        "outputId": "53b62d69-95e7-42a8-9ca3-1cad0c8f97ce",
        "colab": {
          "base_uri": "https://localhost:8080/",
          "height": 33
        }
      },
      "source": [
        "!unzip -o -q 'breast-histopathology-images.zip'\n",
        "!unzip -o -q 'IDC_regular_ps50_idx5.zip'\n",
        "\n",
        "# -f  freshen existing files, create none\n",
        "# -n  never overwrite existing files\n",
        "# -q  quiet mode (-qq => quieter)\n",
        "# -o  overwrite files WITHOUT prompting"
      ],
      "execution_count": 9,
      "outputs": [
        {
          "output_type": "stream",
          "text": [
            "unzip:  cannot find or open IDC_regular_ps50_idx5.zip, IDC_regular_ps50_idx5.zip.zip or IDC_regular_ps50_idx5.zip.ZIP.\n"
          ],
          "name": "stdout"
        }
      ]
    },
    {
      "cell_type": "markdown",
      "metadata": {
        "id": "rxHUEnVIszLV"
      },
      "source": [
        "## Copy Data Into Directories\n",
        "\n",
        "all_images_dir\n",
        "\n",
        "\n",
        "> 1 (IDC Positive Class)\n",
        "\n",
        ">> IDC positive images\n",
        "\n",
        "\n",
        "> 0 (IDC Negative Class)\n",
        "\n",
        ">> IDC negative images\n",
        "\n"
      ]
    },
    {
      "cell_type": "code",
      "metadata": {
        "id": "ZpbEhoKb9Dem"
      },
      "source": [
        "# Create a new directory to store all available images\n",
        "all_images_dir = 'all_images_dir'\n",
        "os.mkdir(all_images_dir)\n",
        "\n",
        "# Create Positive subdirectory within all images\n",
        "os.mkdir('all_images_dir/1')\n",
        "os.mkdir('all_images_dir/0')"
      ],
      "execution_count": 10,
      "outputs": []
    },
    {
      "cell_type": "code",
      "metadata": {
        "id": "O2nvl1Np8ZIW",
        "outputId": "5ca1cc9b-e696-44db-c1d4-4c1276d1e359",
        "colab": {
          "base_uri": "https://localhost:8080/",
          "height": 100
        }
      },
      "source": [
        "# copies all images from their seperate folders into the same \n",
        "# folder called all_images_dir\n",
        "\n",
        "\n",
        "# create a list of all patient id's\n",
        "# each patient id folder has 2 sub folders --> folder 0 and folder 1\n",
        "\n",
        "# Example:\n",
        "    # '10285'\n",
        "        # '0'\n",
        "        # '1'\n",
        "\n",
        "cur_dir = os.getcwd()\n",
        "patient_list = os.listdir(cur_dir)\n",
        "\n",
        "for patient in patient_list:\n",
        "  \n",
        "  try:\n",
        "    \n",
        "    path_0 = str(patient) + '/0'\n",
        "    path_1 = str(patient) + '/1'\n",
        "\n",
        "    # create a list of all files in folder 0\n",
        "    file_list_0 = os.listdir(path_0)\n",
        "    # create a list of list all file in folder 1\n",
        "    file_list_1 = os.listdir(path_1)\n",
        "\n",
        "    # move the 0 images to all_images_dir\n",
        "    for fname in file_list_0:\n",
        "\n",
        "        # source path to image\n",
        "        src = os.path.join(path_0, fname)\n",
        "        # destination path to image\n",
        "        dst = os.path.join(all_images_dir, '0', fname)\n",
        "        # copy the image from the source to the destination\n",
        "        shutil.copyfile(src, dst)\n",
        "\n",
        "    # move the 1 images to all_images_dir\n",
        "    for fname in file_list_1:\n",
        "\n",
        "        # source path to image\n",
        "        src = os.path.join(path_1, fname)\n",
        "        # destination path to image\n",
        "        dst = os.path.join(all_images_dir, '1', fname)\n",
        "        # copy the image from the source to the destination\n",
        "        shutil.copyfile(src, dst)\n",
        "        \n",
        "  except:\n",
        "     print(patient, 'cannot be copied into proper folder')"
      ],
      "execution_count": 11,
      "outputs": [
        {
          "output_type": "stream",
          "text": [
            ".config cannot be copied into proper folder\n",
            "breast-histopathology-images.zip cannot be copied into proper folder\n",
            "IDC_regular_ps50_idx5 cannot be copied into proper folder\n",
            "all_images_dir cannot be copied into proper folder\n",
            "sample_data cannot be copied into proper folder\n"
          ],
          "name": "stdout"
        }
      ]
    },
    {
      "cell_type": "code",
      "metadata": {
        "id": "BzoDj636SIy-",
        "outputId": "9e70f921-46bd-40bb-9553-ab9648840eac",
        "colab": {
          "base_uri": "https://localhost:8080/",
          "height": 66
        }
      },
      "source": [
        "# Check how many images are in each folder\n",
        "\n",
        "print('Total:', len(os.listdir('all_images_dir/1'))+len(os.listdir('all_images_dir/0')))\n",
        "print('Positive:', len(os.listdir('all_images_dir/1')))\n",
        "print('Negative:', len(os.listdir('all_images_dir/0')))"
      ],
      "execution_count": 12,
      "outputs": [
        {
          "output_type": "stream",
          "text": [
            "Total: 277524\n",
            "Positive: 78786\n",
            "Negative: 198738\n"
          ],
          "name": "stdout"
        }
      ]
    },
    {
      "cell_type": "markdown",
      "metadata": {
        "id": "C_H2WdkKtUjA"
      },
      "source": [
        "## Make Dataframe of Image Info."
      ]
    },
    {
      "cell_type": "code",
      "metadata": {
        "id": "Wq-59JhDUvHt"
      },
      "source": [
        "# Create a dataframe containing all the information\n",
        "\n",
        "image_list_1 = os.listdir('all_images_dir/1')\n",
        "df_data_1 = pd.DataFrame(image_list_1, columns=['image_id'])\n",
        "\n",
        "image_list_0 = os.listdir('all_images_dir/0')\n",
        "df_data_0 = pd.DataFrame(image_list_0, columns=['image_id'])\n",
        "\n",
        "df_data = pd.concat([df_data_1, df_data_0])"
      ],
      "execution_count": 13,
      "outputs": []
    },
    {
      "cell_type": "code",
      "metadata": {
        "id": "o6jmoO1DaQbx",
        "outputId": "bbcfbfab-fa47-46c8-d01e-f4af56fbe7aa",
        "colab": {
          "base_uri": "https://localhost:8080/",
          "height": 197
        }
      },
      "source": [
        "df_data.head()"
      ],
      "execution_count": 14,
      "outputs": [
        {
          "output_type": "execute_result",
          "data": {
            "text/html": [
              "<div>\n",
              "<style scoped>\n",
              "    .dataframe tbody tr th:only-of-type {\n",
              "        vertical-align: middle;\n",
              "    }\n",
              "\n",
              "    .dataframe tbody tr th {\n",
              "        vertical-align: top;\n",
              "    }\n",
              "\n",
              "    .dataframe thead th {\n",
              "        text-align: right;\n",
              "    }\n",
              "</style>\n",
              "<table border=\"1\" class=\"dataframe\">\n",
              "  <thead>\n",
              "    <tr style=\"text-align: right;\">\n",
              "      <th></th>\n",
              "      <th>image_id</th>\n",
              "    </tr>\n",
              "  </thead>\n",
              "  <tbody>\n",
              "    <tr>\n",
              "      <th>0</th>\n",
              "      <td>8864_idx5_x2151_y2051_class1.png</td>\n",
              "    </tr>\n",
              "    <tr>\n",
              "      <th>1</th>\n",
              "      <td>15473_idx5_x1751_y701_class1.png</td>\n",
              "    </tr>\n",
              "    <tr>\n",
              "      <th>2</th>\n",
              "      <td>13694_idx5_x1201_y1101_class1.png</td>\n",
              "    </tr>\n",
              "    <tr>\n",
              "      <th>3</th>\n",
              "      <td>9346_idx5_x751_y1551_class1.png</td>\n",
              "    </tr>\n",
              "    <tr>\n",
              "      <th>4</th>\n",
              "      <td>14153_idx5_x701_y1501_class1.png</td>\n",
              "    </tr>\n",
              "  </tbody>\n",
              "</table>\n",
              "</div>"
            ],
            "text/plain": [
              "                            image_id\n",
              "0   8864_idx5_x2151_y2051_class1.png\n",
              "1   15473_idx5_x1751_y701_class1.png\n",
              "2  13694_idx5_x1201_y1101_class1.png\n",
              "3    9346_idx5_x751_y1551_class1.png\n",
              "4   14153_idx5_x701_y1501_class1.png"
            ]
          },
          "metadata": {
            "tags": []
          },
          "execution_count": 14
        }
      ]
    },
    {
      "cell_type": "code",
      "metadata": {
        "id": "4dEMi9ivJN2T",
        "outputId": "631bb786-5278-435d-98d2-58854d41d8f2",
        "colab": {
          "base_uri": "https://localhost:8080/",
          "height": 197
        }
      },
      "source": [
        "# Define Helper Functions\n",
        "\n",
        "# Each file name has this format:\n",
        "# '14211_idx5_x2401_y1301_class1.png'\n",
        "\n",
        "def extract_patient_id(x):\n",
        "    # split into a list\n",
        "    a = x.split('_')\n",
        "    # the id is the first index in the list\n",
        "    patient_id = a[0]\n",
        "    \n",
        "    return patient_id\n",
        "\n",
        "def extract_target(x):\n",
        "    # split into a list\n",
        "    a = x.split('_')\n",
        "    # the target is part of the string in index 4\n",
        "    b = a[4]\n",
        "    # the ytarget i.e. 1 or 2 is the 5th index of the string --> class1\n",
        "    target = b[5]\n",
        "    \n",
        "    return target\n",
        "\n",
        "# extract the patient id\n",
        "\n",
        "# create a new column called 'patient_id'\n",
        "df_data['patient_id'] = df_data['image_id'].apply(extract_patient_id)\n",
        "# create a new column called 'target'\n",
        "df_data['target'] = df_data['image_id'].apply(extract_target)\n",
        "\n",
        "df_data.head()"
      ],
      "execution_count": 15,
      "outputs": [
        {
          "output_type": "execute_result",
          "data": {
            "text/html": [
              "<div>\n",
              "<style scoped>\n",
              "    .dataframe tbody tr th:only-of-type {\n",
              "        vertical-align: middle;\n",
              "    }\n",
              "\n",
              "    .dataframe tbody tr th {\n",
              "        vertical-align: top;\n",
              "    }\n",
              "\n",
              "    .dataframe thead th {\n",
              "        text-align: right;\n",
              "    }\n",
              "</style>\n",
              "<table border=\"1\" class=\"dataframe\">\n",
              "  <thead>\n",
              "    <tr style=\"text-align: right;\">\n",
              "      <th></th>\n",
              "      <th>image_id</th>\n",
              "      <th>patient_id</th>\n",
              "      <th>target</th>\n",
              "    </tr>\n",
              "  </thead>\n",
              "  <tbody>\n",
              "    <tr>\n",
              "      <th>0</th>\n",
              "      <td>8864_idx5_x2151_y2051_class1.png</td>\n",
              "      <td>8864</td>\n",
              "      <td>1</td>\n",
              "    </tr>\n",
              "    <tr>\n",
              "      <th>1</th>\n",
              "      <td>15473_idx5_x1751_y701_class1.png</td>\n",
              "      <td>15473</td>\n",
              "      <td>1</td>\n",
              "    </tr>\n",
              "    <tr>\n",
              "      <th>2</th>\n",
              "      <td>13694_idx5_x1201_y1101_class1.png</td>\n",
              "      <td>13694</td>\n",
              "      <td>1</td>\n",
              "    </tr>\n",
              "    <tr>\n",
              "      <th>3</th>\n",
              "      <td>9346_idx5_x751_y1551_class1.png</td>\n",
              "      <td>9346</td>\n",
              "      <td>1</td>\n",
              "    </tr>\n",
              "    <tr>\n",
              "      <th>4</th>\n",
              "      <td>14153_idx5_x701_y1501_class1.png</td>\n",
              "      <td>14153</td>\n",
              "      <td>1</td>\n",
              "    </tr>\n",
              "  </tbody>\n",
              "</table>\n",
              "</div>"
            ],
            "text/plain": [
              "                            image_id patient_id target\n",
              "0   8864_idx5_x2151_y2051_class1.png       8864      1\n",
              "1   15473_idx5_x1751_y701_class1.png      15473      1\n",
              "2  13694_idx5_x1201_y1101_class1.png      13694      1\n",
              "3    9346_idx5_x751_y1551_class1.png       9346      1\n",
              "4   14153_idx5_x701_y1501_class1.png      14153      1"
            ]
          },
          "metadata": {
            "tags": []
          },
          "execution_count": 15
        }
      ]
    },
    {
      "cell_type": "code",
      "metadata": {
        "id": "wgPW_5o8qvmZ",
        "outputId": "ffa8159e-0274-41fa-e4f9-00f083614b87",
        "colab": {
          "base_uri": "https://localhost:8080/",
          "height": 364
        }
      },
      "source": [
        "sns.countplot(df_data['target']).set_title('Class Distributions')"
      ],
      "execution_count": 16,
      "outputs": [
        {
          "output_type": "stream",
          "text": [
            "/usr/local/lib/python3.6/dist-packages/seaborn/_decorators.py:43: FutureWarning: Pass the following variable as a keyword arg: x. From version 0.12, the only valid positional argument will be `data`, and passing other arguments without an explicit keyword will result in an error or misinterpretation.\n",
            "  FutureWarning\n"
          ],
          "name": "stderr"
        },
        {
          "output_type": "execute_result",
          "data": {
            "text/plain": [
              "Text(0.5, 1.0, 'Class Distributions')"
            ]
          },
          "metadata": {
            "tags": []
          },
          "execution_count": 16
        },
        {
          "output_type": "display_data",
          "data": {
            "image/png": "[encoded data removed]",
            "text/plain": [
              "<Figure size 432x288 with 1 Axes>"
            ]
          },
          "metadata": {
            "tags": [],
            "needs_background": "light"
          }
        }
      ]
    },
    {
      "cell_type": "markdown",
      "metadata": {
        "id": "Zbfd-NF9taFn"
      },
      "source": [
        "## Train/Valid/Test Split"
      ]
    },
    {
      "cell_type": "code",
      "metadata": {
        "id": "WigvCnLfV5_8",
        "outputId": "6deb77d5-ddf6-4ff1-a4e0-589f93e96f33",
        "colab": {
          "base_uri": "https://localhost:8080/",
          "height": 50
        }
      },
      "source": [
        "from sklearn.model_selection import train_test_split\n",
        "\n",
        "y = df_data['target']\n",
        "\n",
        "_, df_test = train_test_split(df_data, test_size=0.03603, random_state=42, stratify=y)\n",
        "\n",
        "_, df_val = train_test_split(df_data, test_size=0.0036025, random_state=42, stratify=y)\n",
        "\n",
        "print('Valid:', df_val.shape[0])\n",
        "print('Test:', df_test.shape[0])"
      ],
      "execution_count": 17,
      "outputs": [
        {
          "output_type": "stream",
          "text": [
            "Valid: 1000\n",
            "Test: 10000\n"
          ],
          "name": "stdout"
        }
      ]
    },
    {
      "cell_type": "code",
      "metadata": {
        "id": "23qnvmKlZdjD",
        "outputId": "9e637da2-9f58-4064-a8d1-bc85153e3279",
        "colab": {
          "base_uri": "https://localhost:8080/",
          "height": 197
        }
      },
      "source": [
        "df_val.head()"
      ],
      "execution_count": 18,
      "outputs": [
        {
          "output_type": "execute_result",
          "data": {
            "text/html": [
              "<div>\n",
              "<style scoped>\n",
              "    .dataframe tbody tr th:only-of-type {\n",
              "        vertical-align: middle;\n",
              "    }\n",
              "\n",
              "    .dataframe tbody tr th {\n",
              "        vertical-align: top;\n",
              "    }\n",
              "\n",
              "    .dataframe thead th {\n",
              "        text-align: right;\n",
              "    }\n",
              "</style>\n",
              "<table border=\"1\" class=\"dataframe\">\n",
              "  <thead>\n",
              "    <tr style=\"text-align: right;\">\n",
              "      <th></th>\n",
              "      <th>image_id</th>\n",
              "      <th>patient_id</th>\n",
              "      <th>target</th>\n",
              "    </tr>\n",
              "  </thead>\n",
              "  <tbody>\n",
              "    <tr>\n",
              "      <th>121626</th>\n",
              "      <td>14157_idx5_x3301_y1501_class0.png</td>\n",
              "      <td>14157</td>\n",
              "      <td>0</td>\n",
              "    </tr>\n",
              "    <tr>\n",
              "      <th>194027</th>\n",
              "      <td>10259_idx5_x2401_y1951_class0.png</td>\n",
              "      <td>10259</td>\n",
              "      <td>0</td>\n",
              "    </tr>\n",
              "    <tr>\n",
              "      <th>123961</th>\n",
              "      <td>13693_idx5_x1451_y2351_class0.png</td>\n",
              "      <td>13693</td>\n",
              "      <td>0</td>\n",
              "    </tr>\n",
              "    <tr>\n",
              "      <th>21361</th>\n",
              "      <td>16165_idx5_x1351_y951_class1.png</td>\n",
              "      <td>16165</td>\n",
              "      <td>1</td>\n",
              "    </tr>\n",
              "    <tr>\n",
              "      <th>56886</th>\n",
              "      <td>12884_idx5_x851_y1151_class0.png</td>\n",
              "      <td>12884</td>\n",
              "      <td>0</td>\n",
              "    </tr>\n",
              "  </tbody>\n",
              "</table>\n",
              "</div>"
            ],
            "text/plain": [
              "                                 image_id patient_id target\n",
              "121626  14157_idx5_x3301_y1501_class0.png      14157      0\n",
              "194027  10259_idx5_x2401_y1951_class0.png      10259      0\n",
              "123961  13693_idx5_x1451_y2351_class0.png      13693      0\n",
              "21361    16165_idx5_x1351_y951_class1.png      16165      1\n",
              "56886    12884_idx5_x851_y1151_class0.png      12884      0"
            ]
          },
          "metadata": {
            "tags": []
          },
          "execution_count": 18
        }
      ]
    },
    {
      "cell_type": "code",
      "metadata": {
        "id": "pImHsy8--uxK",
        "outputId": "a9aa2b83-e20a-4f40-98ef-6499c80c0b05",
        "colab": {
          "base_uri": "https://localhost:8080/",
          "height": 364
        }
      },
      "source": [
        "sns.countplot(df_val['target']).set_title('Valid Class Distributions')"
      ],
      "execution_count": 19,
      "outputs": [
        {
          "output_type": "stream",
          "text": [
            "/usr/local/lib/python3.6/dist-packages/seaborn/_decorators.py:43: FutureWarning: Pass the following variable as a keyword arg: x. From version 0.12, the only valid positional argument will be `data`, and passing other arguments without an explicit keyword will result in an error or misinterpretation.\n",
            "  FutureWarning\n"
          ],
          "name": "stderr"
        },
        {
          "output_type": "execute_result",
          "data": {
            "text/plain": [
              "Text(0.5, 1.0, 'Valid Class Distributions')"
            ]
          },
          "metadata": {
            "tags": []
          },
          "execution_count": 19
        },
        {
          "output_type": "display_data",
          "data": {
            "image/png": "[encoded data removed]",
            "text/plain": [
              "<Figure size 432x288 with 1 Axes>"
            ]
          },
          "metadata": {
            "tags": [],
            "needs_background": "light"
          }
        }
      ]
    },
    {
      "cell_type": "code",
      "metadata": {
        "id": "6YOAPf8DZayG",
        "outputId": "7aa10eba-f5c2-4271-bf95-0826eaae0254",
        "colab": {
          "base_uri": "https://localhost:8080/",
          "height": 197
        }
      },
      "source": [
        "df_test.head()"
      ],
      "execution_count": 20,
      "outputs": [
        {
          "output_type": "execute_result",
          "data": {
            "text/html": [
              "<div>\n",
              "<style scoped>\n",
              "    .dataframe tbody tr th:only-of-type {\n",
              "        vertical-align: middle;\n",
              "    }\n",
              "\n",
              "    .dataframe tbody tr th {\n",
              "        vertical-align: top;\n",
              "    }\n",
              "\n",
              "    .dataframe thead th {\n",
              "        text-align: right;\n",
              "    }\n",
              "</style>\n",
              "<table border=\"1\" class=\"dataframe\">\n",
              "  <thead>\n",
              "    <tr style=\"text-align: right;\">\n",
              "      <th></th>\n",
              "      <th>image_id</th>\n",
              "      <th>patient_id</th>\n",
              "      <th>target</th>\n",
              "    </tr>\n",
              "  </thead>\n",
              "  <tbody>\n",
              "    <tr>\n",
              "      <th>132161</th>\n",
              "      <td>12911_idx5_x2001_y251_class0.png</td>\n",
              "      <td>12911</td>\n",
              "      <td>0</td>\n",
              "    </tr>\n",
              "    <tr>\n",
              "      <th>175607</th>\n",
              "      <td>14078_idx5_x801_y1501_class0.png</td>\n",
              "      <td>14078</td>\n",
              "      <td>0</td>\n",
              "    </tr>\n",
              "    <tr>\n",
              "      <th>120975</th>\n",
              "      <td>13106_idx5_x2001_y2101_class0.png</td>\n",
              "      <td>13106</td>\n",
              "      <td>0</td>\n",
              "    </tr>\n",
              "    <tr>\n",
              "      <th>40149</th>\n",
              "      <td>8867_idx5_x2701_y1701_class0.png</td>\n",
              "      <td>8867</td>\n",
              "      <td>0</td>\n",
              "    </tr>\n",
              "    <tr>\n",
              "      <th>131004</th>\n",
              "      <td>14304_idx5_x1401_y251_class0.png</td>\n",
              "      <td>14304</td>\n",
              "      <td>0</td>\n",
              "    </tr>\n",
              "  </tbody>\n",
              "</table>\n",
              "</div>"
            ],
            "text/plain": [
              "                                 image_id patient_id target\n",
              "132161   12911_idx5_x2001_y251_class0.png      12911      0\n",
              "175607   14078_idx5_x801_y1501_class0.png      14078      0\n",
              "120975  13106_idx5_x2001_y2101_class0.png      13106      0\n",
              "40149    8867_idx5_x2701_y1701_class0.png       8867      0\n",
              "131004   14304_idx5_x1401_y251_class0.png      14304      0"
            ]
          },
          "metadata": {
            "tags": []
          },
          "execution_count": 20
        }
      ]
    },
    {
      "cell_type": "code",
      "metadata": {
        "id": "YYBFYZCd-yks",
        "outputId": "132d9d09-d96f-46b0-f43f-d2c427ba9187",
        "colab": {
          "base_uri": "https://localhost:8080/",
          "height": 364
        }
      },
      "source": [
        "sns.countplot(df_test['target']).set_title('Test Class Distributions')"
      ],
      "execution_count": 21,
      "outputs": [
        {
          "output_type": "stream",
          "text": [
            "/usr/local/lib/python3.6/dist-packages/seaborn/_decorators.py:43: FutureWarning: Pass the following variable as a keyword arg: x. From version 0.12, the only valid positional argument will be `data`, and passing other arguments without an explicit keyword will result in an error or misinterpretation.\n",
            "  FutureWarning\n"
          ],
          "name": "stderr"
        },
        {
          "output_type": "execute_result",
          "data": {
            "text/plain": [
              "Text(0.5, 1.0, 'Test Class Distributions')"
            ]
          },
          "metadata": {
            "tags": []
          },
          "execution_count": 21
        },
        {
          "output_type": "display_data",
          "data": {
            "image/png": "[encoded data removed]",
            "text/plain": [
              "<Figure size 432x288 with 1 Axes>"
            ]
          },
          "metadata": {
            "tags": [],
            "needs_background": "light"
          }
        }
      ]
    },
    {
      "cell_type": "code",
      "metadata": {
        "id": "OIUJVbmmWMbS",
        "outputId": "827bc224-6f34-4f61-eab8-9b1e0e4c26db",
        "colab": {
          "base_uri": "https://localhost:8080/",
          "height": 66
        }
      },
      "source": [
        "def identify_train_val_and_test_rows(x):\n",
        "    # create a list of all the lesion_id's in the val set and test set\n",
        "    val_list = list(df_val['image_id'])\n",
        "    test_list = list(df_test['image_id'])\n",
        "    \n",
        "    if str(x) in val_list:\n",
        "        return 'val'\n",
        "    elif str(x) in test_list:\n",
        "        return 'test'\n",
        "    else:\n",
        "        return 'train'\n",
        "\n",
        "# create a new colum that is a copy of the image_id column\n",
        "df_data['train_or_val_or_test'] = df_data['image_id']\n",
        "# apply the function to this new column\n",
        "df_data['train_or_val_or_test'] = df_data['train_or_val_or_test'].apply(identify_train_val_and_test_rows)\n",
        "   \n",
        "# filter out train rows\n",
        "df_train = df_data[df_data['train_or_val_or_test'] == 'train']\n",
        "\n",
        "print('Train:', len(df_train))\n",
        "print('Valid:', len(df_val))\n",
        "print('Test:', len(df_test))"
      ],
      "execution_count": 22,
      "outputs": [
        {
          "output_type": "stream",
          "text": [
            "Train: 267524\n",
            "Valid: 1000\n",
            "Test: 10000\n"
          ],
          "name": "stdout"
        }
      ]
    },
    {
      "cell_type": "code",
      "metadata": {
        "id": "fm0Z19f8-88H",
        "outputId": "7583ee62-552b-40af-9151-e59313b8580c",
        "colab": {
          "base_uri": "https://localhost:8080/",
          "height": 364
        }
      },
      "source": [
        "sns.countplot(df_train['target']).set_title('Train Class Distributions')"
      ],
      "execution_count": 23,
      "outputs": [
        {
          "output_type": "stream",
          "text": [
            "/usr/local/lib/python3.6/dist-packages/seaborn/_decorators.py:43: FutureWarning: Pass the following variable as a keyword arg: x. From version 0.12, the only valid positional argument will be `data`, and passing other arguments without an explicit keyword will result in an error or misinterpretation.\n",
            "  FutureWarning\n"
          ],
          "name": "stderr"
        },
        {
          "output_type": "execute_result",
          "data": {
            "text/plain": [
              "Text(0.5, 1.0, 'Train Class Distributions')"
            ]
          },
          "metadata": {
            "tags": []
          },
          "execution_count": 23
        },
        {
          "output_type": "display_data",
          "data": {
            "image/png": "[encoded data removed]",
            "text/plain": [
              "<Figure size 432x288 with 1 Axes>"
            ]
          },
          "metadata": {
            "tags": [],
            "needs_background": "light"
          }
        }
      ]
    },
    {
      "cell_type": "code",
      "metadata": {
        "id": "i4WEeaOu74ZI",
        "outputId": "b3e058bf-b28c-4fb5-8b18-7b215acaeb06",
        "colab": {
          "base_uri": "https://localhost:8080/",
          "height": 227
        }
      },
      "source": [
        "# Set the image_id as the index in df_data\n",
        "df_data.set_index('image_id', inplace=True)\n",
        "df_data.head()"
      ],
      "execution_count": 24,
      "outputs": [
        {
          "output_type": "execute_result",
          "data": {
            "text/html": [
              "<div>\n",
              "<style scoped>\n",
              "    .dataframe tbody tr th:only-of-type {\n",
              "        vertical-align: middle;\n",
              "    }\n",
              "\n",
              "    .dataframe tbody tr th {\n",
              "        vertical-align: top;\n",
              "    }\n",
              "\n",
              "    .dataframe thead th {\n",
              "        text-align: right;\n",
              "    }\n",
              "</style>\n",
              "<table border=\"1\" class=\"dataframe\">\n",
              "  <thead>\n",
              "    <tr style=\"text-align: right;\">\n",
              "      <th></th>\n",
              "      <th>patient_id</th>\n",
              "      <th>target</th>\n",
              "      <th>train_or_val_or_test</th>\n",
              "    </tr>\n",
              "    <tr>\n",
              "      <th>image_id</th>\n",
              "      <th></th>\n",
              "      <th></th>\n",
              "      <th></th>\n",
              "    </tr>\n",
              "  </thead>\n",
              "  <tbody>\n",
              "    <tr>\n",
              "      <th>8864_idx5_x2151_y2051_class1.png</th>\n",
              "      <td>8864</td>\n",
              "      <td>1</td>\n",
              "      <td>train</td>\n",
              "    </tr>\n",
              "    <tr>\n",
              "      <th>15473_idx5_x1751_y701_class1.png</th>\n",
              "      <td>15473</td>\n",
              "      <td>1</td>\n",
              "      <td>train</td>\n",
              "    </tr>\n",
              "    <tr>\n",
              "      <th>13694_idx5_x1201_y1101_class1.png</th>\n",
              "      <td>13694</td>\n",
              "      <td>1</td>\n",
              "      <td>train</td>\n",
              "    </tr>\n",
              "    <tr>\n",
              "      <th>9346_idx5_x751_y1551_class1.png</th>\n",
              "      <td>9346</td>\n",
              "      <td>1</td>\n",
              "      <td>train</td>\n",
              "    </tr>\n",
              "    <tr>\n",
              "      <th>14153_idx5_x701_y1501_class1.png</th>\n",
              "      <td>14153</td>\n",
              "      <td>1</td>\n",
              "      <td>train</td>\n",
              "    </tr>\n",
              "  </tbody>\n",
              "</table>\n",
              "</div>"
            ],
            "text/plain": [
              "                                  patient_id target train_or_val_or_test\n",
              "image_id                                                                \n",
              "8864_idx5_x2151_y2051_class1.png        8864      1                train\n",
              "15473_idx5_x1751_y701_class1.png       15473      1                train\n",
              "13694_idx5_x1201_y1101_class1.png      13694      1                train\n",
              "9346_idx5_x751_y1551_class1.png         9346      1                train\n",
              "14153_idx5_x701_y1501_class1.png       14153      1                train"
            ]
          },
          "metadata": {
            "tags": []
          },
          "execution_count": 24
        }
      ]
    },
    {
      "cell_type": "markdown",
      "metadata": {
        "id": "K5s2_P6Rtg2v"
      },
      "source": [
        "## Move Train/Valid/Test Images Into Repective Directories\n",
        "\n",
        "train_dir\n",
        "\n",
        "\n",
        "> 1 (IDC Positive Class)\n",
        "\n",
        ">> IDC positive images\n",
        "\n",
        "\n",
        "> 0 (IDC Negative Class)\n",
        "\n",
        ">> IDC negative images\n",
        "\n",
        "\n",
        "val_dir\n",
        "\n",
        "\n",
        "> 1 (IDC Positive Class)\n",
        "\n",
        ">> IDC positive images\n",
        "\n",
        "\n",
        "> 0 (IDC Negative Class)\n",
        "\n",
        ">> IDC negative images\n",
        "\n",
        "\n",
        "test_dir\n",
        "\n",
        "\n",
        "> 1 (IDC Positive Class)\n",
        "\n",
        ">> IDC positive images\n",
        "\n",
        "\n",
        "> 0 (IDC Negative Class)\n",
        "\n",
        ">> IDC negative images"
      ]
    },
    {
      "cell_type": "code",
      "metadata": {
        "id": "FFcW6h6F5SVA"
      },
      "source": [
        "# Make Train, Valid, and Test Folders\n",
        "\n",
        "# train_dir\n",
        "train_dir = os.path.join('train_dir')\n",
        "os.mkdir(train_dir)\n",
        "\n",
        "# val_dir\n",
        "val_dir = os.path.join('val_dir')\n",
        "os.mkdir(val_dir)\n",
        "\n",
        "# test_dir\n",
        "test_dir = os.path.join('test_dir')\n",
        "os.mkdir(test_dir)\n",
        "\n",
        "\n",
        "# Create folders within the train, valid, and test folders\n",
        "# Inside each folder we create seperate folders for each class\n",
        "\n",
        "# create new folders inside train_dir\n",
        "os.mkdir(os.path.join(train_dir, '1'))\n",
        "os.mkdir(os.path.join(train_dir, '0'))\n",
        "\n",
        "# Create new folders inside val_dir\n",
        "os.mkdir(os.path.join(val_dir, '1'))\n",
        "os.mkdir(os.path.join(val_dir, '0'))\n",
        "\n",
        "# Create new folders inside test_dir\n",
        "os.mkdir(os.path.join(test_dir, '1'))\n",
        "os.mkdir(os.path.join(test_dir, '0'))"
      ],
      "execution_count": 25,
      "outputs": []
    },
    {
      "cell_type": "code",
      "metadata": {
        "id": "BPZBpaIa40rz"
      },
      "source": [
        "# Get a list of train, val, and test images\n",
        "train_list = list(df_train['image_id'])\n",
        "val_list = list(df_val['image_id'])\n",
        "test_list = list(df_test['image_id'])\n",
        "\n",
        "# Transfer the train images\n",
        "\n",
        "for image in train_list:\n",
        "    \n",
        "    pat_id = df_data.loc[image,'patient_id']\n",
        "    label = df_data.loc[image,'target']\n",
        "    src = pat_id + '/' + label + '/' + image\n",
        "    \n",
        "    # destination path to image\n",
        "    dst = os.path.join(train_dir, label, image)\n",
        "    # copy the image from the source to the destination\n",
        "    shutil.copyfile(src, dst)\n",
        "\n",
        "\n",
        "# Transfer the val images\n",
        "\n",
        "for image in val_list:\n",
        "    \n",
        "    pat_id = df_data.loc[image,'patient_id']\n",
        "    label = df_data.loc[image,'target']\n",
        "    src = pat_id + '/' + label + '/' + image\n",
        "    \n",
        "    # destination path to image\n",
        "    dst = os.path.join(val_dir, label, image)\n",
        "    # copy the image from the source to the destination\n",
        "    shutil.copyfile(src, dst)\n",
        "    \n",
        "    \n",
        "# Transfer the test images\n",
        "for image in test_list:\n",
        "    \n",
        "    pat_id = df_data.loc[image,'patient_id']\n",
        "    label = df_data.loc[image,'target']\n",
        "    src = pat_id + '/' + label + '/' + image\n",
        "    \n",
        "    # destination path to image\n",
        "    dst = os.path.join(test_dir, label, image)\n",
        "    # copy the image from the source to the destination\n",
        "    shutil.copyfile(src, dst)"
      ],
      "execution_count": 26,
      "outputs": []
    },
    {
      "cell_type": "code",
      "metadata": {
        "id": "IMTjMZyF6jUb",
        "outputId": "250b8845-9b47-4507-8ab5-5cabfff29ffd",
        "colab": {
          "base_uri": "https://localhost:8080/",
          "height": 216
        }
      },
      "source": [
        "print('Train Total:', len(os.listdir('train_dir/1'))+len(os.listdir('train_dir/0')))\n",
        "print('Valid Total:', len(os.listdir('val_dir/1'))+len(os.listdir('val_dir/0')))\n",
        "print('Test Total:', len(os.listdir('test_dir/1'))+len(os.listdir('test_dir/0')), '\\n')\n",
        "\n",
        "print('Train Negative:', len(os.listdir('train_dir/0')))\n",
        "print('Train Positive:', len(os.listdir('train_dir/1')), '\\n')\n",
        "\n",
        "print('Valid Negative:', len(os.listdir('val_dir/0')))\n",
        "print('Valid Positive:', len(os.listdir('val_dir/1')), '\\n')\n",
        "\n",
        "print('Test Negative:', len(os.listdir('test_dir/0')))\n",
        "print('Test Positive:', len(os.listdir('test_dir/1')))"
      ],
      "execution_count": 27,
      "outputs": [
        {
          "output_type": "stream",
          "text": [
            "Train Total: 267524\n",
            "Valid Total: 1000\n",
            "Test Total: 10000 \n",
            "\n",
            "Train Negative: 191577\n",
            "Train Positive: 75947 \n",
            "\n",
            "Valid Negative: 716\n",
            "Valid Positive: 284 \n",
            "\n",
            "Test Negative: 7161\n",
            "Test Positive: 2839\n"
          ],
          "name": "stdout"
        }
      ]
    },
    {
      "cell_type": "markdown",
      "metadata": {
        "id": "wxN51wKht9dv"
      },
      "source": [
        "## Make Augmented Images of Underrepresented Class (IDC Positive)"
      ]
    },
    {
      "cell_type": "code",
      "metadata": {
        "id": "agSveb7QB-dk",
        "outputId": "e659f4a5-275d-4bdf-f58f-354d0844a1d8",
        "colab": {
          "base_uri": "https://localhost:8080/",
          "height": 33
        }
      },
      "source": [
        "image_size = 100\n",
        "\n",
        "from keras.preprocessing.image import ImageDataGenerator\n",
        "\n",
        "# create temporary directories here and delete these directories later\n",
        "aug_dir = 'aug_dir'\n",
        "os.mkdir(aug_dir)\n",
        "# create a dir within the base dir to store images of the same class\n",
        "img_dir = os.path.join(aug_dir, 'img_dir')\n",
        "os.mkdir(img_dir)\n",
        "\n",
        "# list all images in that directory\n",
        "img_list = os.listdir('train_dir/1')\n",
        "\n",
        "# copy images from the class all images directory to the image directory\n",
        "for fname in img_list:\n",
        "    # source path to image\n",
        "    src = os.path.join('train_dir/1', fname)\n",
        "    # destination path to image\n",
        "    dst = os.path.join(img_dir, fname)\n",
        "    # copy the image from the source to the destination\n",
        "    shutil.copyfile(src, dst)\n",
        "\n",
        "\n",
        "# point to a dir containing the images and not to the images themselves\n",
        "path = 'aug_dir'\n",
        "save_path = 'train_dir/1'\n",
        "\n",
        "# create a data generator\n",
        "datagen = ImageDataGenerator(\n",
        "    rotation_range=180,\n",
        "    width_shift_range=0.125,\n",
        "    height_shift_range=0.125,\n",
        "    zoom_range=[1.2, 1.325],\n",
        "    fill_mode='reflect')\n",
        "\n",
        "batch_size = 25\n",
        "\n",
        "aug_datagen = datagen.flow_from_directory(path,\n",
        "                                          save_to_dir=save_path,\n",
        "                                          save_format='jpg',\n",
        "                                          target_size=(image_size, image_size),\n",
        "                                          batch_size=batch_size)\n",
        "\n",
        "# generate the augmented images and add them to the folder of all images\n",
        "\n",
        "num_aug_images_wanted = len(os.listdir('train_dir/0')) # total number of images wanted in each class\n",
        "\n",
        "num_files = len(os.listdir(img_dir))\n",
        "num_batches = int(np.ceil((num_aug_images_wanted-num_files)/batch_size))\n",
        "\n",
        "for i in range(0, num_batches):\n",
        "  next(aug_datagen)\n",
        "\n",
        "# delete temporary directory with the raw image files\n",
        "shutil.rmtree('aug_dir')"
      ],
      "execution_count": 28,
      "outputs": [
        {
          "output_type": "stream",
          "text": [
            "Found 75947 images belonging to 1 classes.\n"
          ],
          "name": "stdout"
        }
      ]
    },
    {
      "cell_type": "code",
      "metadata": {
        "id": "B-y6cnV3E7My",
        "outputId": "70c5af10-631f-4fce-e0e3-136b962f4b3a",
        "colab": {
          "base_uri": "https://localhost:8080/",
          "height": 66
        }
      },
      "source": [
        "# Check how many train images we have in each folder\n",
        "\n",
        "print('Train Total:', len(os.listdir('train_dir/1'))+len(os.listdir('train_dir/0')))\n",
        "print('Train Positive:', len(os.listdir('train_dir/1')))\n",
        "print('Train Negative:', len(os.listdir('train_dir/0')))"
      ],
      "execution_count": 29,
      "outputs": [
        {
          "output_type": "stream",
          "text": [
            "Train Total: 383171\n",
            "Train Positive: 191594\n",
            "Train Negative: 191577\n"
          ],
          "name": "stdout"
        }
      ]
    },
    {
      "cell_type": "markdown",
      "metadata": {
        "id": "_Sc4GkIxuNkH"
      },
      "source": [
        "## Create Train/Valid/Test Batches"
      ]
    },
    {
      "cell_type": "code",
      "metadata": {
        "id": "E_z5FyjYCFaC"
      },
      "source": [
        "train_path = 'train_dir'\n",
        "valid_path = 'val_dir'\n",
        "test_path = 'test_dir'\n",
        "\n",
        "num_train_samples = len(df_train)\n",
        "num_val_samples = len(df_val)\n",
        "num_test_samples = len(df_test)\n",
        "\n",
        "train_batch_size = 500\n",
        "val_batch_size = 500\n",
        "test_batch_size = 500\n",
        "\n",
        "train_steps = np.ceil(num_train_samples / train_batch_size)\n",
        "val_steps = np.ceil(num_val_samples / val_batch_size)\n",
        "test_steps = np.ceil(num_test_samples / test_batch_size)"
      ],
      "execution_count": 30,
      "outputs": []
    },
    {
      "cell_type": "code",
      "metadata": {
        "id": "ixVyBuGJEAIr"
      },
      "source": [
        "class_weights={\n",
        "    0: 1.0, # negative\n",
        "    1: 1.0, # postive \n",
        "    # make model more sensitive to positive class if necessary\n",
        "}"
      ],
      "execution_count": 31,
      "outputs": []
    },
    {
      "cell_type": "markdown",
      "metadata": {
        "id": "BGNPwMLvugjE"
      },
      "source": [
        "## Train Transfer Learning Model Including Benchmark Model's Weights\n",
        "Transfer Learning Model Had Less Accuracy & Worse Performance"
      ]
    },
    {
      "cell_type": "code",
      "metadata": {
        "id": "aHvpAX2GsKZg"
      },
      "source": [
        "from keras.layers import Input, Lambda, Dense, Flatten, GlobalAveragePooling2D, Dropout\n",
        "from keras.applications.resnet50 import ResNet50\n",
        "from keras.applications.resnet50 import preprocess_input\n",
        "from keras.preprocessing import image\n",
        "from keras.preprocessing.image import ImageDataGenerator\n",
        "import numpy as np\n",
        "from glob import glob\n",
        "import matplotlib.pyplot as plt\n",
        "from keras import layers\n",
        "from keras.models import Model, Sequential\n",
        "from keras.optimizers import Adam, RMSprop\n",
        "from keras.callbacks import EarlyStopping"
      ],
      "execution_count": 32,
      "outputs": []
    },
    {
      "cell_type": "code",
      "metadata": {
        "id": "HX0YEHeiY1sZ",
        "outputId": "fe72c10e-10b2-4076-d4f0-b2c27e1569d8",
        "colab": {
          "base_uri": "https://localhost:8080/",
          "height": 53
        }
      },
      "source": [
        "# Load Pre-Trained Model\n",
        "from keras.applications.resnet50 import ResNet50\n",
        "base = ResNet50(include_top=False, weights='imagenet', pooling=None, input_shape=(image_size, image_size, 3))"
      ],
      "execution_count": 33,
      "outputs": [
        {
          "output_type": "stream",
          "text": [
            "Downloading data from https://storage.googleapis.com/tensorflow/keras-applications/resnet/resnet50_weights_tf_dim_ordering_tf_kernels_notop.h5\n",
            "94773248/94765736 [==============================] - 1s 0us/step\n"
          ],
          "name": "stdout"
        }
      ]
    },
    {
      "cell_type": "code",
      "metadata": {
        "id": "QuTxDdt4Zpz2",
        "outputId": "bb6ae463-6b05-416b-e2e0-7a8bd4cafc64",
        "colab": {
          "base_uri": "https://localhost:8080/",
          "height": 1000
        }
      },
      "source": [
        "# Build Transfer Learning Model\n",
        "\n",
        "from keras.models import Model\n",
        "\n",
        "last = base.output\n",
        "x = GlobalAveragePooling2D()(last)\n",
        "x = Dense(256, activation='relu')(x)\n",
        "x = Dropout(0.5)(x)\n",
        "preds = Dense(2, activation='softmax')(x)\n",
        "\n",
        "transfer = Model(base.input, preds)\n",
        "transfer.summary()"
      ],
      "execution_count": 34,
      "outputs": [
        {
          "output_type": "stream",
          "text": [
            "Model: \"functional_1\"\n",
            "__________________________________________________________________________________________________\n",
            "Layer (type)                    Output Shape         Param #     Connected to                     \n",
            "==================================================================================================\n",
            "input_1 (InputLayer)            [(None, 100, 100, 3) 0                                            \n",
            "__________________________________________________________________________________________________\n",
            "conv1_pad (ZeroPadding2D)       (None, 106, 106, 3)  0           input_1[0][0]                    \n",
            "__________________________________________________________________________________________________\n",
            "conv1_conv (Conv2D)             (None, 50, 50, 64)   9472        conv1_pad[0][0]                  \n",
            "__________________________________________________________________________________________________\n",
            "conv1_bn (BatchNormalization)   (None, 50, 50, 64)   256         conv1_conv[0][0]                 \n",
            "__________________________________________________________________________________________________\n",
            "conv1_relu (Activation)         (None, 50, 50, 64)   0           conv1_bn[0][0]                   \n",
            "__________________________________________________________________________________________________\n",
            "pool1_pad (ZeroPadding2D)       (None, 52, 52, 64)   0           conv1_relu[0][0]                 \n",
            "__________________________________________________________________________________________________\n",
            "pool1_pool (MaxPooling2D)       (None, 25, 25, 64)   0           pool1_pad[0][0]                  \n",
            "__________________________________________________________________________________________________\n",
            "conv2_block1_1_conv (Conv2D)    (None, 25, 25, 64)   4160        pool1_pool[0][0]                 \n",
            "__________________________________________________________________________________________________\n",
            "conv2_block1_1_bn (BatchNormali (None, 25, 25, 64)   256         conv2_block1_1_conv[0][0]        \n",
            "__________________________________________________________________________________________________\n",
            "conv2_block1_1_relu (Activation (None, 25, 25, 64)   0           conv2_block1_1_bn[0][0]          \n",
            "__________________________________________________________________________________________________\n",
            "conv2_block1_2_conv (Conv2D)    (None, 25, 25, 64)   36928       conv2_block1_1_relu[0][0]        \n",
            "__________________________________________________________________________________________________\n",
            "conv2_block1_2_bn (BatchNormali (None, 25, 25, 64)   256         conv2_block1_2_conv[0][0]        \n",
            "__________________________________________________________________________________________________\n",
            "conv2_block1_2_relu (Activation (None, 25, 25, 64)   0           conv2_block1_2_bn[0][0]          \n",
            "__________________________________________________________________________________________________\n",
            "conv2_block1_0_conv (Conv2D)    (None, 25, 25, 256)  16640       pool1_pool[0][0]                 \n",
            "__________________________________________________________________________________________________\n",
            "conv2_block1_3_conv (Conv2D)    (None, 25, 25, 256)  16640       conv2_block1_2_relu[0][0]        \n",
            "__________________________________________________________________________________________________\n",
            "conv2_block1_0_bn (BatchNormali (None, 25, 25, 256)  1024        conv2_block1_0_conv[0][0]        \n",
            "__________________________________________________________________________________________________\n",
            "conv2_block1_3_bn (BatchNormali (None, 25, 25, 256)  1024        conv2_block1_3_conv[0][0]        \n",
            "__________________________________________________________________________________________________\n",
            "conv2_block1_add (Add)          (None, 25, 25, 256)  0           conv2_block1_0_bn[0][0]          \n",
            "                                                                 conv2_block1_3_bn[0][0]          \n",
            "__________________________________________________________________________________________________\n",
            "conv2_block1_out (Activation)   (None, 25, 25, 256)  0           conv2_block1_add[0][0]           \n",
            "__________________________________________________________________________________________________\n",
            "conv2_block2_1_conv (Conv2D)    (None, 25, 25, 64)   16448       conv2_block1_out[0][0]           \n",
            "__________________________________________________________________________________________________\n",
            "conv2_block2_1_bn (BatchNormali (None, 25, 25, 64)   256         conv2_block2_1_conv[0][0]        \n",
            "__________________________________________________________________________________________________\n",
            "conv2_block2_1_relu (Activation (None, 25, 25, 64)   0           conv2_block2_1_bn[0][0]          \n",
            "__________________________________________________________________________________________________\n",
            "conv2_block2_2_conv (Conv2D)    (None, 25, 25, 64)   36928       conv2_block2_1_relu[0][0]        \n",
            "__________________________________________________________________________________________________\n",
            "conv2_block2_2_bn (BatchNormali (None, 25, 25, 64)   256         conv2_block2_2_conv[0][0]        \n",
            "__________________________________________________________________________________________________\n",
            "conv2_block2_2_relu (Activation (None, 25, 25, 64)   0           conv2_block2_2_bn[0][0]          \n",
            "__________________________________________________________________________________________________\n",
            "conv2_block2_3_conv (Conv2D)    (None, 25, 25, 256)  16640       conv2_block2_2_relu[0][0]        \n",
            "__________________________________________________________________________________________________\n",
            "conv2_block2_3_bn (BatchNormali (None, 25, 25, 256)  1024        conv2_block2_3_conv[0][0]        \n",
            "__________________________________________________________________________________________________\n",
            "conv2_block2_add (Add)          (None, 25, 25, 256)  0           conv2_block1_out[0][0]           \n",
            "                                                                 conv2_block2_3_bn[0][0]          \n",
            "__________________________________________________________________________________________________\n",
            "conv2_block2_out (Activation)   (None, 25, 25, 256)  0           conv2_block2_add[0][0]           \n",
            "__________________________________________________________________________________________________\n",
            "conv2_block3_1_conv (Conv2D)    (None, 25, 25, 64)   16448       conv2_block2_out[0][0]           \n",
            "__________________________________________________________________________________________________\n",
            "conv2_block3_1_bn (BatchNormali (None, 25, 25, 64)   256         conv2_block3_1_conv[0][0]        \n",
            "__________________________________________________________________________________________________\n",
            "conv2_block3_1_relu (Activation (None, 25, 25, 64)   0           conv2_block3_1_bn[0][0]          \n",
            "__________________________________________________________________________________________________\n",
            "conv2_block3_2_conv (Conv2D)    (None, 25, 25, 64)   36928       conv2_block3_1_relu[0][0]        \n",
            "__________________________________________________________________________________________________\n",
            "conv2_block3_2_bn (BatchNormali (None, 25, 25, 64)   256         conv2_block3_2_conv[0][0]        \n",
            "__________________________________________________________________________________________________\n",
            "conv2_block3_2_relu (Activation (None, 25, 25, 64)   0           conv2_block3_2_bn[0][0]          \n",
            "__________________________________________________________________________________________________\n",
            "conv2_block3_3_conv (Conv2D)    (None, 25, 25, 256)  16640       conv2_block3_2_relu[0][0]        \n",
            "__________________________________________________________________________________________________\n",
            "conv2_block3_3_bn (BatchNormali (None, 25, 25, 256)  1024        conv2_block3_3_conv[0][0]        \n",
            "__________________________________________________________________________________________________\n",
            "conv2_block3_add (Add)          (None, 25, 25, 256)  0           conv2_block2_out[0][0]           \n",
            "                                                                 conv2_block3_3_bn[0][0]          \n",
            "__________________________________________________________________________________________________\n",
            "conv2_block3_out (Activation)   (None, 25, 25, 256)  0           conv2_block3_add[0][0]           \n",
            "__________________________________________________________________________________________________\n",
            "conv3_block1_1_conv (Conv2D)    (None, 13, 13, 128)  32896       conv2_block3_out[0][0]           \n",
            "__________________________________________________________________________________________________\n",
            "conv3_block1_1_bn (BatchNormali (None, 13, 13, 128)  512         conv3_block1_1_conv[0][0]        \n",
            "__________________________________________________________________________________________________\n",
            "conv3_block1_1_relu (Activation (None, 13, 13, 128)  0           conv3_block1_1_bn[0][0]          \n",
            "__________________________________________________________________________________________________\n",
            "conv3_block1_2_conv (Conv2D)    (None, 13, 13, 128)  147584      conv3_block1_1_relu[0][0]        \n",
            "__________________________________________________________________________________________________\n",
            "conv3_block1_2_bn (BatchNormali (None, 13, 13, 128)  512         conv3_block1_2_conv[0][0]        \n",
            "__________________________________________________________________________________________________\n",
            "conv3_block1_2_relu (Activation (None, 13, 13, 128)  0           conv3_block1_2_bn[0][0]          \n",
            "__________________________________________________________________________________________________\n",
            "conv3_block1_0_conv (Conv2D)    (None, 13, 13, 512)  131584      conv2_block3_out[0][0]           \n",
            "__________________________________________________________________________________________________\n",
            "conv3_block1_3_conv (Conv2D)    (None, 13, 13, 512)  66048       conv3_block1_2_relu[0][0]        \n",
            "__________________________________________________________________________________________________\n",
            "conv3_block1_0_bn (BatchNormali (None, 13, 13, 512)  2048        conv3_block1_0_conv[0][0]        \n",
            "__________________________________________________________________________________________________\n",
            "conv3_block1_3_bn (BatchNormali (None, 13, 13, 512)  2048        conv3_block1_3_conv[0][0]        \n",
            "__________________________________________________________________________________________________\n",
            "conv3_block1_add (Add)          (None, 13, 13, 512)  0           conv3_block1_0_bn[0][0]          \n",
            "                                                                 conv3_block1_3_bn[0][0]          \n",
            "__________________________________________________________________________________________________\n",
            "conv3_block1_out (Activation)   (None, 13, 13, 512)  0           conv3_block1_add[0][0]           \n",
            "__________________________________________________________________________________________________\n",
            "conv3_block2_1_conv (Conv2D)    (None, 13, 13, 128)  65664       conv3_block1_out[0][0]           \n",
            "__________________________________________________________________________________________________\n",
            "conv3_block2_1_bn (BatchNormali (None, 13, 13, 128)  512         conv3_block2_1_conv[0][0]        \n",
            "__________________________________________________________________________________________________\n",
            "conv3_block2_1_relu (Activation (None, 13, 13, 128)  0           conv3_block2_1_bn[0][0]          \n",
            "__________________________________________________________________________________________________\n",
            "conv3_block2_2_conv (Conv2D)    (None, 13, 13, 128)  147584      conv3_block2_1_relu[0][0]        \n",
            "__________________________________________________________________________________________________\n",
            "conv3_block2_2_bn (BatchNormali (None, 13, 13, 128)  512         conv3_block2_2_conv[0][0]        \n",
            "__________________________________________________________________________________________________\n",
            "conv3_block2_2_relu (Activation (None, 13, 13, 128)  0           conv3_block2_2_bn[0][0]          \n",
            "__________________________________________________________________________________________________\n",
            "conv3_block2_3_conv (Conv2D)    (None, 13, 13, 512)  66048       conv3_block2_2_relu[0][0]        \n",
            "__________________________________________________________________________________________________\n",
            "conv3_block2_3_bn (BatchNormali (None, 13, 13, 512)  2048        conv3_block2_3_conv[0][0]        \n",
            "__________________________________________________________________________________________________\n",
            "conv3_block2_add (Add)          (None, 13, 13, 512)  0           conv3_block1_out[0][0]           \n",
            "                                                                 conv3_block2_3_bn[0][0]          \n",
            "__________________________________________________________________________________________________\n",
            "conv3_block2_out (Activation)   (None, 13, 13, 512)  0           conv3_block2_add[0][0]           \n",
            "__________________________________________________________________________________________________\n",
            "conv3_block3_1_conv (Conv2D)    (None, 13, 13, 128)  65664       conv3_block2_out[0][0]           \n",
            "__________________________________________________________________________________________________\n",
            "conv3_block3_1_bn (BatchNormali (None, 13, 13, 128)  512         conv3_block3_1_conv[0][0]        \n",
            "__________________________________________________________________________________________________\n",
            "conv3_block3_1_relu (Activation (None, 13, 13, 128)  0           conv3_block3_1_bn[0][0]          \n",
            "__________________________________________________________________________________________________\n",
            "conv3_block3_2_conv (Conv2D)    (None, 13, 13, 128)  147584      conv3_block3_1_relu[0][0]        \n",
            "__________________________________________________________________________________________________\n",
            "conv3_block3_2_bn (BatchNormali (None, 13, 13, 128)  512         conv3_block3_2_conv[0][0]        \n",
            "__________________________________________________________________________________________________\n",
            "conv3_block3_2_relu (Activation (None, 13, 13, 128)  0           conv3_block3_2_bn[0][0]          \n",
            "__________________________________________________________________________________________________\n",
            "conv3_block3_3_conv (Conv2D)    (None, 13, 13, 512)  66048       conv3_block3_2_relu[0][0]        \n",
            "__________________________________________________________________________________________________\n",
            "conv3_block3_3_bn (BatchNormali (None, 13, 13, 512)  2048        conv3_block3_3_conv[0][0]        \n",
            "__________________________________________________________________________________________________\n",
            "conv3_block3_add (Add)          (None, 13, 13, 512)  0           conv3_block2_out[0][0]           \n",
            "                                                                 conv3_block3_3_bn[0][0]          \n",
            "__________________________________________________________________________________________________\n",
            "conv3_block3_out (Activation)   (None, 13, 13, 512)  0           conv3_block3_add[0][0]           \n",
            "__________________________________________________________________________________________________\n",
            "conv3_block4_1_conv (Conv2D)    (None, 13, 13, 128)  65664       conv3_block3_out[0][0]           \n",
            "__________________________________________________________________________________________________\n",
            "conv3_block4_1_bn (BatchNormali (None, 13, 13, 128)  512         conv3_block4_1_conv[0][0]        \n",
            "__________________________________________________________________________________________________\n",
            "conv3_block4_1_relu (Activation (None, 13, 13, 128)  0           conv3_block4_1_bn[0][0]          \n",
            "__________________________________________________________________________________________________\n",
            "conv3_block4_2_conv (Conv2D)    (None, 13, 13, 128)  147584      conv3_block4_1_relu[0][0]        \n",
            "__________________________________________________________________________________________________\n",
            "conv3_block4_2_bn (BatchNormali (None, 13, 13, 128)  512         conv3_block4_2_conv[0][0]        \n",
            "__________________________________________________________________________________________________\n",
            "conv3_block4_2_relu (Activation (None, 13, 13, 128)  0           conv3_block4_2_bn[0][0]          \n",
            "__________________________________________________________________________________________________\n",
            "conv3_block4_3_conv (Conv2D)    (None, 13, 13, 512)  66048       conv3_block4_2_relu[0][0]        \n",
            "__________________________________________________________________________________________________\n",
            "conv3_block4_3_bn (BatchNormali (None, 13, 13, 512)  2048        conv3_block4_3_conv[0][0]        \n",
            "__________________________________________________________________________________________________\n",
            "conv3_block4_add (Add)          (None, 13, 13, 512)  0           conv3_block3_out[0][0]           \n",
            "                                                                 conv3_block4_3_bn[0][0]          \n",
            "__________________________________________________________________________________________________\n",
            "conv3_block4_out (Activation)   (None, 13, 13, 512)  0           conv3_block4_add[0][0]           \n",
            "__________________________________________________________________________________________________\n",
            "conv4_block1_1_conv (Conv2D)    (None, 7, 7, 256)    131328      conv3_block4_out[0][0]           \n",
            "__________________________________________________________________________________________________\n",
            "conv4_block1_1_bn (BatchNormali (None, 7, 7, 256)    1024        conv4_block1_1_conv[0][0]        \n",
            "__________________________________________________________________________________________________\n",
            "conv4_block1_1_relu (Activation (None, 7, 7, 256)    0           conv4_block1_1_bn[0][0]          \n",
            "__________________________________________________________________________________________________\n",
            "conv4_block1_2_conv (Conv2D)    (None, 7, 7, 256)    590080      conv4_block1_1_relu[0][0]        \n",
            "__________________________________________________________________________________________________\n",
            "conv4_block1_2_bn (BatchNormali (None, 7, 7, 256)    1024        conv4_block1_2_conv[0][0]        \n",
            "__________________________________________________________________________________________________\n",
            "conv4_block1_2_relu (Activation (None, 7, 7, 256)    0           conv4_block1_2_bn[0][0]          \n",
            "__________________________________________________________________________________________________\n",
            "conv4_block1_0_conv (Conv2D)    (None, 7, 7, 1024)   525312      conv3_block4_out[0][0]           \n",
            "__________________________________________________________________________________________________\n",
            "conv4_block1_3_conv (Conv2D)    (None, 7, 7, 1024)   263168      conv4_block1_2_relu[0][0]        \n",
            "__________________________________________________________________________________________________\n",
            "conv4_block1_0_bn (BatchNormali (None, 7, 7, 1024)   4096        conv4_block1_0_conv[0][0]        \n",
            "__________________________________________________________________________________________________\n",
            "conv4_block1_3_bn (BatchNormali (None, 7, 7, 1024)   4096        conv4_block1_3_conv[0][0]        \n",
            "__________________________________________________________________________________________________\n",
            "conv4_block1_add (Add)          (None, 7, 7, 1024)   0           conv4_block1_0_bn[0][0]          \n",
            "                                                                 conv4_block1_3_bn[0][0]          \n",
            "__________________________________________________________________________________________________\n",
            "conv4_block1_out (Activation)   (None, 7, 7, 1024)   0           conv4_block1_add[0][0]           \n",
            "__________________________________________________________________________________________________\n",
            "conv4_block2_1_conv (Conv2D)    (None, 7, 7, 256)    262400      conv4_block1_out[0][0]           \n",
            "__________________________________________________________________________________________________\n",
            "conv4_block2_1_bn (BatchNormali (None, 7, 7, 256)    1024        conv4_block2_1_conv[0][0]        \n",
            "__________________________________________________________________________________________________\n",
            "conv4_block2_1_relu (Activation (None, 7, 7, 256)    0           conv4_block2_1_bn[0][0]          \n",
            "__________________________________________________________________________________________________\n",
            "conv4_block2_2_conv (Conv2D)    (None, 7, 7, 256)    590080      conv4_block2_1_relu[0][0]        \n",
            "__________________________________________________________________________________________________\n",
            "conv4_block2_2_bn (BatchNormali (None, 7, 7, 256)    1024        conv4_block2_2_conv[0][0]        \n",
            "__________________________________________________________________________________________________\n",
            "conv4_block2_2_relu (Activation (None, 7, 7, 256)    0           conv4_block2_2_bn[0][0]          \n",
            "__________________________________________________________________________________________________\n",
            "conv4_block2_3_conv (Conv2D)    (None, 7, 7, 1024)   263168      conv4_block2_2_relu[0][0]        \n",
            "__________________________________________________________________________________________________\n",
            "conv4_block2_3_bn (BatchNormali (None, 7, 7, 1024)   4096        conv4_block2_3_conv[0][0]        \n",
            "__________________________________________________________________________________________________\n",
            "conv4_block2_add (Add)          (None, 7, 7, 1024)   0           conv4_block1_out[0][0]           \n",
            "                                                                 conv4_block2_3_bn[0][0]          \n",
            "__________________________________________________________________________________________________\n",
            "conv4_block2_out (Activation)   (None, 7, 7, 1024)   0           conv4_block2_add[0][0]           \n",
            "__________________________________________________________________________________________________\n",
            "conv4_block3_1_conv (Conv2D)    (None, 7, 7, 256)    262400      conv4_block2_out[0][0]           \n",
            "__________________________________________________________________________________________________\n",
            "conv4_block3_1_bn (BatchNormali (None, 7, 7, 256)    1024        conv4_block3_1_conv[0][0]        \n",
            "__________________________________________________________________________________________________\n",
            "conv4_block3_1_relu (Activation (None, 7, 7, 256)    0           conv4_block3_1_bn[0][0]          \n",
            "__________________________________________________________________________________________________\n",
            "conv4_block3_2_conv (Conv2D)    (None, 7, 7, 256)    590080      conv4_block3_1_relu[0][0]        \n",
            "__________________________________________________________________________________________________\n",
            "conv4_block3_2_bn (BatchNormali (None, 7, 7, 256)    1024        conv4_block3_2_conv[0][0]        \n",
            "__________________________________________________________________________________________________\n",
            "conv4_block3_2_relu (Activation (None, 7, 7, 256)    0           conv4_block3_2_bn[0][0]          \n",
            "__________________________________________________________________________________________________\n",
            "conv4_block3_3_conv (Conv2D)    (None, 7, 7, 1024)   263168      conv4_block3_2_relu[0][0]        \n",
            "__________________________________________________________________________________________________\n",
            "conv4_block3_3_bn (BatchNormali (None, 7, 7, 1024)   4096        conv4_block3_3_conv[0][0]        \n",
            "__________________________________________________________________________________________________\n",
            "conv4_block3_add (Add)          (None, 7, 7, 1024)   0           conv4_block2_out[0][0]           \n",
            "                                                                 conv4_block3_3_bn[0][0]          \n",
            "__________________________________________________________________________________________________\n",
            "conv4_block3_out (Activation)   (None, 7, 7, 1024)   0           conv4_block3_add[0][0]           \n",
            "__________________________________________________________________________________________________\n",
            "conv4_block4_1_conv (Conv2D)    (None, 7, 7, 256)    262400      conv4_block3_out[0][0]           \n",
            "__________________________________________________________________________________________________\n",
            "conv4_block4_1_bn (BatchNormali (None, 7, 7, 256)    1024        conv4_block4_1_conv[0][0]        \n",
            "__________________________________________________________________________________________________\n",
            "conv4_block4_1_relu (Activation (None, 7, 7, 256)    0           conv4_block4_1_bn[0][0]          \n",
            "__________________________________________________________________________________________________\n",
            "conv4_block4_2_conv (Conv2D)    (None, 7, 7, 256)    590080      conv4_block4_1_relu[0][0]        \n",
            "__________________________________________________________________________________________________\n",
            "conv4_block4_2_bn (BatchNormali (None, 7, 7, 256)    1024        conv4_block4_2_conv[0][0]        \n",
            "__________________________________________________________________________________________________\n",
            "conv4_block4_2_relu (Activation (None, 7, 7, 256)    0           conv4_block4_2_bn[0][0]          \n",
            "__________________________________________________________________________________________________\n",
            "conv4_block4_3_conv (Conv2D)    (None, 7, 7, 1024)   263168      conv4_block4_2_relu[0][0]        \n",
            "__________________________________________________________________________________________________\n",
            "conv4_block4_3_bn (BatchNormali (None, 7, 7, 1024)   4096        conv4_block4_3_conv[0][0]        \n",
            "__________________________________________________________________________________________________\n",
            "conv4_block4_add (Add)          (None, 7, 7, 1024)   0           conv4_block3_out[0][0]           \n",
            "                                                                 conv4_block4_3_bn[0][0]          \n",
            "__________________________________________________________________________________________________\n",
            "conv4_block4_out (Activation)   (None, 7, 7, 1024)   0           conv4_block4_add[0][0]           \n",
            "__________________________________________________________________________________________________\n",
            "conv4_block5_1_conv (Conv2D)    (None, 7, 7, 256)    262400      conv4_block4_out[0][0]           \n",
            "__________________________________________________________________________________________________\n",
            "conv4_block5_1_bn (BatchNormali (None, 7, 7, 256)    1024        conv4_block5_1_conv[0][0]        \n",
            "__________________________________________________________________________________________________\n",
            "conv4_block5_1_relu (Activation (None, 7, 7, 256)    0           conv4_block5_1_bn[0][0]          \n",
            "__________________________________________________________________________________________________\n",
            "conv4_block5_2_conv (Conv2D)    (None, 7, 7, 256)    590080      conv4_block5_1_relu[0][0]        \n",
            "__________________________________________________________________________________________________\n",
            "conv4_block5_2_bn (BatchNormali (None, 7, 7, 256)    1024        conv4_block5_2_conv[0][0]        \n",
            "__________________________________________________________________________________________________\n",
            "conv4_block5_2_relu (Activation (None, 7, 7, 256)    0           conv4_block5_2_bn[0][0]          \n",
            "__________________________________________________________________________________________________\n",
            "conv4_block5_3_conv (Conv2D)    (None, 7, 7, 1024)   263168      conv4_block5_2_relu[0][0]        \n",
            "__________________________________________________________________________________________________\n",
            "conv4_block5_3_bn (BatchNormali (None, 7, 7, 1024)   4096        conv4_block5_3_conv[0][0]        \n",
            "__________________________________________________________________________________________________\n",
            "conv4_block5_add (Add)          (None, 7, 7, 1024)   0           conv4_block4_out[0][0]           \n",
            "                                                                 conv4_block5_3_bn[0][0]          \n",
            "__________________________________________________________________________________________________\n",
            "conv4_block5_out (Activation)   (None, 7, 7, 1024)   0           conv4_block5_add[0][0]           \n",
            "__________________________________________________________________________________________________\n",
            "conv4_block6_1_conv (Conv2D)    (None, 7, 7, 256)    262400      conv4_block5_out[0][0]           \n",
            "__________________________________________________________________________________________________\n",
            "conv4_block6_1_bn (BatchNormali (None, 7, 7, 256)    1024        conv4_block6_1_conv[0][0]        \n",
            "__________________________________________________________________________________________________\n",
            "conv4_block6_1_relu (Activation (None, 7, 7, 256)    0           conv4_block6_1_bn[0][0]          \n",
            "__________________________________________________________________________________________________\n",
            "conv4_block6_2_conv (Conv2D)    (None, 7, 7, 256)    590080      conv4_block6_1_relu[0][0]        \n",
            "__________________________________________________________________________________________________\n",
            "conv4_block6_2_bn (BatchNormali (None, 7, 7, 256)    1024        conv4_block6_2_conv[0][0]        \n",
            "__________________________________________________________________________________________________\n",
            "conv4_block6_2_relu (Activation (None, 7, 7, 256)    0           conv4_block6_2_bn[0][0]          \n",
            "__________________________________________________________________________________________________\n",
            "conv4_block6_3_conv (Conv2D)    (None, 7, 7, 1024)   263168      conv4_block6_2_relu[0][0]        \n",
            "__________________________________________________________________________________________________\n",
            "conv4_block6_3_bn (BatchNormali (None, 7, 7, 1024)   4096        conv4_block6_3_conv[0][0]        \n",
            "__________________________________________________________________________________________________\n",
            "conv4_block6_add (Add)          (None, 7, 7, 1024)   0           conv4_block5_out[0][0]           \n",
            "                                                                 conv4_block6_3_bn[0][0]          \n",
            "__________________________________________________________________________________________________\n",
            "conv4_block6_out (Activation)   (None, 7, 7, 1024)   0           conv4_block6_add[0][0]           \n",
            "__________________________________________________________________________________________________\n",
            "conv5_block1_1_conv (Conv2D)    (None, 4, 4, 512)    524800      conv4_block6_out[0][0]           \n",
            "__________________________________________________________________________________________________\n",
            "conv5_block1_1_bn (BatchNormali (None, 4, 4, 512)    2048        conv5_block1_1_conv[0][0]        \n",
            "__________________________________________________________________________________________________\n",
            "conv5_block1_1_relu (Activation (None, 4, 4, 512)    0           conv5_block1_1_bn[0][0]          \n",
            "__________________________________________________________________________________________________\n",
            "conv5_block1_2_conv (Conv2D)    (None, 4, 4, 512)    2359808     conv5_block1_1_relu[0][0]        \n",
            "__________________________________________________________________________________________________\n",
            "conv5_block1_2_bn (BatchNormali (None, 4, 4, 512)    2048        conv5_block1_2_conv[0][0]        \n",
            "__________________________________________________________________________________________________\n",
            "conv5_block1_2_relu (Activation (None, 4, 4, 512)    0           conv5_block1_2_bn[0][0]          \n",
            "__________________________________________________________________________________________________\n",
            "conv5_block1_0_conv (Conv2D)    (None, 4, 4, 2048)   2099200     conv4_block6_out[0][0]           \n",
            "__________________________________________________________________________________________________\n",
            "conv5_block1_3_conv (Conv2D)    (None, 4, 4, 2048)   1050624     conv5_block1_2_relu[0][0]        \n",
            "__________________________________________________________________________________________________\n",
            "conv5_block1_0_bn (BatchNormali (None, 4, 4, 2048)   8192        conv5_block1_0_conv[0][0]        \n",
            "__________________________________________________________________________________________________\n",
            "conv5_block1_3_bn (BatchNormali (None, 4, 4, 2048)   8192        conv5_block1_3_conv[0][0]        \n",
            "__________________________________________________________________________________________________\n",
            "conv5_block1_add (Add)          (None, 4, 4, 2048)   0           conv5_block1_0_bn[0][0]          \n",
            "                                                                 conv5_block1_3_bn[0][0]          \n",
            "__________________________________________________________________________________________________\n",
            "conv5_block1_out (Activation)   (None, 4, 4, 2048)   0           conv5_block1_add[0][0]           \n",
            "__________________________________________________________________________________________________\n",
            "conv5_block2_1_conv (Conv2D)    (None, 4, 4, 512)    1049088     conv5_block1_out[0][0]           \n",
            "__________________________________________________________________________________________________\n",
            "conv5_block2_1_bn (BatchNormali (None, 4, 4, 512)    2048        conv5_block2_1_conv[0][0]        \n",
            "__________________________________________________________________________________________________\n",
            "conv5_block2_1_relu (Activation (None, 4, 4, 512)    0           conv5_block2_1_bn[0][0]          \n",
            "__________________________________________________________________________________________________\n",
            "conv5_block2_2_conv (Conv2D)    (None, 4, 4, 512)    2359808     conv5_block2_1_relu[0][0]        \n",
            "__________________________________________________________________________________________________\n",
            "conv5_block2_2_bn (BatchNormali (None, 4, 4, 512)    2048        conv5_block2_2_conv[0][0]        \n",
            "__________________________________________________________________________________________________\n",
            "conv5_block2_2_relu (Activation (None, 4, 4, 512)    0           conv5_block2_2_bn[0][0]          \n",
            "__________________________________________________________________________________________________\n",
            "conv5_block2_3_conv (Conv2D)    (None, 4, 4, 2048)   1050624     conv5_block2_2_relu[0][0]        \n",
            "__________________________________________________________________________________________________\n",
            "conv5_block2_3_bn (BatchNormali (None, 4, 4, 2048)   8192        conv5_block2_3_conv[0][0]        \n",
            "__________________________________________________________________________________________________\n",
            "conv5_block2_add (Add)          (None, 4, 4, 2048)   0           conv5_block1_out[0][0]           \n",
            "                                                                 conv5_block2_3_bn[0][0]          \n",
            "__________________________________________________________________________________________________\n",
            "conv5_block2_out (Activation)   (None, 4, 4, 2048)   0           conv5_block2_add[0][0]           \n",
            "__________________________________________________________________________________________________\n",
            "conv5_block3_1_conv (Conv2D)    (None, 4, 4, 512)    1049088     conv5_block2_out[0][0]           \n",
            "__________________________________________________________________________________________________\n",
            "conv5_block3_1_bn (BatchNormali (None, 4, 4, 512)    2048        conv5_block3_1_conv[0][0]        \n",
            "__________________________________________________________________________________________________\n",
            "conv5_block3_1_relu (Activation (None, 4, 4, 512)    0           conv5_block3_1_bn[0][0]          \n",
            "__________________________________________________________________________________________________\n",
            "conv5_block3_2_conv (Conv2D)    (None, 4, 4, 512)    2359808     conv5_block3_1_relu[0][0]        \n",
            "__________________________________________________________________________________________________\n",
            "conv5_block3_2_bn (BatchNormali (None, 4, 4, 512)    2048        conv5_block3_2_conv[0][0]        \n",
            "__________________________________________________________________________________________________\n",
            "conv5_block3_2_relu (Activation (None, 4, 4, 512)    0           conv5_block3_2_bn[0][0]          \n",
            "__________________________________________________________________________________________________\n",
            "conv5_block3_3_conv (Conv2D)    (None, 4, 4, 2048)   1050624     conv5_block3_2_relu[0][0]        \n",
            "__________________________________________________________________________________________________\n",
            "conv5_block3_3_bn (BatchNormali (None, 4, 4, 2048)   8192        conv5_block3_3_conv[0][0]        \n",
            "__________________________________________________________________________________________________\n",
            "conv5_block3_add (Add)          (None, 4, 4, 2048)   0           conv5_block2_out[0][0]           \n",
            "                                                                 conv5_block3_3_bn[0][0]          \n",
            "__________________________________________________________________________________________________\n",
            "conv5_block3_out (Activation)   (None, 4, 4, 2048)   0           conv5_block3_add[0][0]           \n",
            "__________________________________________________________________________________________________\n",
            "global_average_pooling2d (Globa (None, 2048)         0           conv5_block3_out[0][0]           \n",
            "__________________________________________________________________________________________________\n",
            "dense (Dense)                   (None, 256)          524544      global_average_pooling2d[0][0]   \n",
            "__________________________________________________________________________________________________\n",
            "dropout (Dropout)               (None, 256)          0           dense[0][0]                      \n",
            "__________________________________________________________________________________________________\n",
            "dense_1 (Dense)                 (None, 2)            514         dropout[0][0]                    \n",
            "==================================================================================================\n",
            "Total params: 24,112,770\n",
            "Trainable params: 24,059,650\n",
            "Non-trainable params: 53,120\n",
            "__________________________________________________________________________________________________\n"
          ],
          "name": "stdout"
        }
      ]
    },
    {
      "cell_type": "code",
      "metadata": {
        "id": "HvFdfUbHZxp7",
        "outputId": "31994670-24f3-4d78-d487-15c50685b6f6",
        "colab": {
          "base_uri": "https://localhost:8080/",
          "height": 35
        }
      },
      "source": [
        "# How many layers Base Model has\n",
        "print(len(base.layers))"
      ],
      "execution_count": 35,
      "outputs": [
        {
          "output_type": "stream",
          "text": [
            "175\n"
          ],
          "name": "stdout"
        }
      ]
    },
    {
      "cell_type": "code",
      "metadata": {
        "id": "bx1Z5k0DZ3dk"
      },
      "source": [
        "# Freeze original layers of Base Model\n",
        "for layer in base.layers:\n",
        "    layer.trainable = False"
      ],
      "execution_count": 36,
      "outputs": []
    },
    {
      "cell_type": "code",
      "metadata": {
        "id": "w38OzbpkZ47N"
      },
      "source": [
        "# Compile Transfer Learning Model\n",
        "from keras import metrics\n",
        "transfer.compile(loss='binary_crossentropy', optimizer='adam', metrics=['accuracy'])"
      ],
      "execution_count": 37,
      "outputs": []
    },
    {
      "cell_type": "code",
      "metadata": {
        "id": "wStyrKxzZ9nv",
        "outputId": "3d79ca67-55c5-4ef8-b941-eccf4dd249ab",
        "colab": {
          "base_uri": "https://localhost:8080/",
          "height": 71
        }
      },
      "source": [
        "datagen = ImageDataGenerator(preprocessing_function=keras.applications.resnet50.preprocess_input,\n",
        "                             horizontal_flip=True,\n",
        "                             vertical_flip=True, \n",
        "                             fill_mode='nearest')\n",
        "\n",
        "train_batches_transfer = datagen.flow_from_directory(train_path,\n",
        "                                                     target_size=(image_size, image_size),\n",
        "                                                     batch_size=train_batch_size)\n",
        "\n",
        "valid_batches_transfer = datagen.flow_from_directory(valid_path,\n",
        "                                                     target_size=(image_size, image_size),\n",
        "                                                     batch_size=val_batch_size)\n",
        "\n",
        "test_batches_transfer = datagen.flow_from_directory(test_path,\n",
        "                                                    target_size=(image_size, image_size),\n",
        "                                                    batch_size=test_batch_size,\n",
        "                                                    shuffle=False) # test dataset should not be shuffled"
      ],
      "execution_count": 38,
      "outputs": [
        {
          "output_type": "stream",
          "text": [
            "Found 383171 images belonging to 2 classes.\n",
            "Found 1000 images belonging to 2 classes.\n",
            "Found 10000 images belonging to 2 classes.\n"
          ],
          "name": "stdout"
        }
      ]
    },
    {
      "cell_type": "code",
      "metadata": {
        "id": "-VqwemtSaHZx",
        "outputId": "b6e0a05d-197f-4819-a383-557b37f4626e",
        "colab": {
          "base_uri": "https://localhost:8080/",
          "height": 811
        }
      },
      "source": [
        "# Checkpointer\n",
        "from keras.callbacks import ModelCheckpoint\n",
        "# Checkpointer\n",
        "checkpointer_transfer = ModelCheckpoint(filepath='breast_histopathology_transfer_best.hdf5', verbose=1, save_best_only=True)\n",
        "\n",
        "# Train Model\n",
        "history_transfer = transfer.fit_generator(train_batches_transfer, \n",
        "                                       steps_per_epoch=train_steps, \n",
        "                                       class_weight=class_weights,\n",
        "                                       validation_data=valid_batches_transfer,\n",
        "                                       validation_steps=val_steps,\n",
        "                                       callbacks=[checkpointer_transfer], \n",
        "                                       epochs=10, \n",
        "                                       verbose=1)"
      ],
      "execution_count": 39,
      "outputs": [
        {
          "output_type": "stream",
          "text": [
            "WARNING:tensorflow:From <ipython-input-39-a8dfe567cf19>:14: Model.fit_generator (from tensorflow.python.keras.engine.training) is deprecated and will be removed in a future version.\n",
            "Instructions for updating:\n",
            "Please use Model.fit, which supports generators.\n",
            "Epoch 1/10\n",
            "536/536 [==============================] - ETA: 0s - loss: 0.2945 - accuracy: 0.8790\n",
            "Epoch 00001: val_loss improved from inf to 0.32325, saving model to breast_histopathology_transfer_best.hdf5\n",
            "536/536 [==============================] - 457s 854ms/step - loss: 0.2945 - accuracy: 0.8790 - val_loss: 0.3232 - val_accuracy: 0.8590\n",
            "Epoch 2/10\n",
            "536/536 [==============================] - ETA: 0s - loss: 0.2380 - accuracy: 0.8986\n",
            "Epoch 00002: val_loss improved from 0.32325 to 0.30349, saving model to breast_histopathology_transfer_best.hdf5\n",
            "536/536 [==============================] - 454s 846ms/step - loss: 0.2380 - accuracy: 0.8986 - val_loss: 0.3035 - val_accuracy: 0.8660\n",
            "Epoch 3/10\n",
            "536/536 [==============================] - ETA: 0s - loss: 0.2291 - accuracy: 0.9031\n",
            "Epoch 00003: val_loss did not improve from 0.30349\n",
            "536/536 [==============================] - 453s 845ms/step - loss: 0.2291 - accuracy: 0.9031 - val_loss: 0.3131 - val_accuracy: 0.8600\n",
            "Epoch 4/10\n",
            "536/536 [==============================] - ETA: 0s - loss: 0.2243 - accuracy: 0.9054\n",
            "Epoch 00004: val_loss did not improve from 0.30349\n",
            "536/536 [==============================] - 453s 845ms/step - loss: 0.2243 - accuracy: 0.9054 - val_loss: 0.3133 - val_accuracy: 0.8660\n",
            "Epoch 5/10\n",
            "536/536 [==============================] - ETA: 0s - loss: 0.2212 - accuracy: 0.9059\n",
            "Epoch 00005: val_loss improved from 0.30349 to 0.29650, saving model to breast_histopathology_transfer_best.hdf5\n",
            "536/536 [==============================] - 455s 850ms/step - loss: 0.2212 - accuracy: 0.9059 - val_loss: 0.2965 - val_accuracy: 0.8660\n",
            "Epoch 6/10\n",
            "536/536 [==============================] - ETA: 0s - loss: 0.2195 - accuracy: 0.9072\n",
            "Epoch 00006: val_loss did not improve from 0.29650\n",
            "536/536 [==============================] - 454s 846ms/step - loss: 0.2195 - accuracy: 0.9072 - val_loss: 0.3021 - val_accuracy: 0.8670\n",
            "Epoch 7/10\n",
            "536/536 [==============================] - ETA: 0s - loss: 0.2169 - accuracy: 0.9083\n",
            "Epoch 00007: val_loss did not improve from 0.29650\n",
            "536/536 [==============================] - 453s 845ms/step - loss: 0.2169 - accuracy: 0.9083 - val_loss: 0.2988 - val_accuracy: 0.8680\n",
            "Epoch 8/10\n",
            "536/536 [==============================] - ETA: 0s - loss: 0.2157 - accuracy: 0.9087\n",
            "Epoch 00008: val_loss improved from 0.29650 to 0.29212, saving model to breast_histopathology_transfer_best.hdf5\n",
            "536/536 [==============================] - 453s 844ms/step - loss: 0.2157 - accuracy: 0.9087 - val_loss: 0.2921 - val_accuracy: 0.8700\n",
            "Epoch 9/10\n",
            "536/536 [==============================] - ETA: 0s - loss: 0.2143 - accuracy: 0.9095\n",
            "Epoch 00009: val_loss did not improve from 0.29212\n",
            "536/536 [==============================] - 453s 845ms/step - loss: 0.2143 - accuracy: 0.9095 - val_loss: 0.3094 - val_accuracy: 0.8620\n",
            "Epoch 10/10\n",
            "536/536 [==============================] - ETA: 0s - loss: 0.2115 - accuracy: 0.9107\n",
            "Epoch 00010: val_loss improved from 0.29212 to 0.28566, saving model to breast_histopathology_transfer_best.hdf5\n",
            "536/536 [==============================] - 454s 846ms/step - loss: 0.2115 - accuracy: 0.9107 - val_loss: 0.2857 - val_accuracy: 0.8680\n"
          ],
          "name": "stdout"
        }
      ]
    },
    {
      "cell_type": "markdown",
      "metadata": {
        "id": "PXu1D4E4OFig"
      },
      "source": [
        "## Transfer Learning Model Evaluation\n"
      ]
    },
    {
      "cell_type": "code",
      "metadata": {
        "id": "P1N5Sf6S2Hjp"
      },
      "source": [
        "def plot_training(history):\n",
        "  \n",
        "    acc = history.history['accuracy'] \n",
        "    val_acc = history.history['val_accuracy']\n",
        "    loss = history.history['loss']\n",
        "    val_loss = history.history['val_loss']\n",
        "    epochs = range(len(acc))\n",
        "    \n",
        "    plt.plot(epochs,acc, 'b')\n",
        "    plt.plot(epochs,val_acc, 'r')\n",
        "    plt.title(\"Training & Validation Accuracy\")\n",
        "    \n",
        "    plt.figure()\n",
        "    plt.plot(epochs, loss, 'b')\n",
        "    plt.plot(epochs, val_loss, 'r')\n",
        "    plt.title(\"Training & Validation Loss\")\n",
        "    \n",
        "    plt.show()"
      ],
      "execution_count": 40,
      "outputs": []
    },
    {
      "cell_type": "code",
      "metadata": {
        "id": "miozk8-haT_x",
        "outputId": "6b04821e-b35e-4700-8ecb-0c2fa3e73316",
        "colab": {
          "base_uri": "https://localhost:8080/",
          "height": 545
        }
      },
      "source": [
        "plot_training(history_transfer)"
      ],
      "execution_count": 41,
      "outputs": [
        {
          "output_type": "display_data",
          "data": {
            "image/png": "[encoded data removed]",
            "text/plain": [
              "<Figure size 432x288 with 1 Axes>"
            ]
          },
          "metadata": {
            "tags": [],
            "needs_background": "light"
          }
        },
        {
          "output_type": "display_data",
          "data": {
            "image/png": "[encoded data removed]",
            "text/plain": [
              "<Figure size 432x288 with 1 Axes>"
            ]
          },
          "metadata": {
            "tags": [],
            "needs_background": "light"
          }
        }
      ]
    },
    {
      "cell_type": "code",
      "metadata": {
        "id": "nc6l52cpaPSu"
      },
      "source": [
        "# Load Weights of the Transfer Learning Model\n",
        "transfer.load_weights('breast_histopathology_transfer_best.hdf5')"
      ],
      "execution_count": 42,
      "outputs": []
    },
    {
      "cell_type": "code",
      "metadata": {
        "id": "JWwUzFCZaYae",
        "outputId": "6021ff12-357e-4f26-c78c-d68c44d0575c",
        "colab": {
          "base_uri": "https://localhost:8080/",
          "height": 141
        }
      },
      "source": [
        "# Test Predictions\n",
        "preds = transfer.predict_generator(test_batches_transfer, steps=len(df_test), verbose=1)"
      ],
      "execution_count": 43,
      "outputs": [
        {
          "output_type": "stream",
          "text": [
            "WARNING:tensorflow:From <ipython-input-43-df88303a55dd>:2: Model.predict_generator (from tensorflow.python.keras.engine.training) is deprecated and will be removed in a future version.\n",
            "Instructions for updating:\n",
            "Please use Model.predict, which supports generators.\n",
            "    2/10000 [..............................] - ETA: 1:28:03WARNING:tensorflow:Callbacks method `on_predict_batch_end` is slow compared to the batch time (batch time: 0.1949s vs `on_predict_batch_end` time: 0.7894s). Check your callbacks.\n",
            "   20/10000 [..............................] - ETA: 2:16:40WARNING:tensorflow:Your input ran out of data; interrupting training. Make sure that your dataset or generator can generate at least `steps_per_epoch * epochs` batches (in this case, 10000 batches). You may need to use the repeat() function when building your dataset.\n",
            "   20/10000 [..............................] - 17s 870ms/step\n"
          ],
          "name": "stdout"
        }
      ]
    },
    {
      "cell_type": "code",
      "metadata": {
        "id": "m2b99WjraaYX"
      },
      "source": [
        "# Take the highest probability scores to get index of predictions for test images\n",
        "y_pred = np.argmax(preds, axis=1)\n",
        "\n",
        "# Get labels of test images\n",
        "y_true = test_batches_transfer.classes"
      ],
      "execution_count": 44,
      "outputs": []
    },
    {
      "cell_type": "code",
      "metadata": {
        "id": "LREEyzQ7agET",
        "outputId": "96a8e252-4bde-40ed-c6c9-4d3f0a10c41b",
        "colab": {
          "base_uri": "https://localhost:8080/",
          "height": 52
        }
      },
      "source": [
        "# Evaluate\n",
        "from sklearn.metrics import accuracy_score\n",
        "print(f'Accuracy: {accuracy_score(y_true, y_pred):1.3f}%')\n",
        "\n",
        "from sklearn.metrics import balanced_accuracy_score\n",
        "print(f'Balanced Accuracy: {balanced_accuracy_score(y_true, y_pred):1.3f}%')\n",
        "# Balanced accuracy is calculated as the average of the proportion correct of each class individually"
      ],
      "execution_count": 45,
      "outputs": [
        {
          "output_type": "stream",
          "text": [
            "Accuracy: 0.871%\n",
            "Balanced Accuracy: 0.821%\n"
          ],
          "name": "stdout"
        }
      ]
    },
    {
      "cell_type": "code",
      "metadata": {
        "id": "TxMuap8q3_uT"
      },
      "source": [
        "# Confusion Matrix\n",
        "\n",
        "from sklearn.metrics import confusion_matrix\n",
        "\n",
        "def matrix():\n",
        "  conf_matrix = confusion_matrix(y_true, y_pred)\n",
        "  plt.imshow(conf_matrix, interpolation='nearest', cmap='viridis')\n",
        "  plt.title('Confusion matrix')\n",
        "  plt.colorbar()\n",
        "  tick_marks = np.arange(len(['negative', 'positive']))\n",
        "  plt.xticks(tick_marks, ['negative', 'positive'])\n",
        "  plt.yticks(tick_marks, ['negative', 'positive'])\n",
        "  plt.ylabel('True label')\n",
        "  plt.xlabel('Predicted label')\n",
        "  plt.tight_layout()"
      ],
      "execution_count": 46,
      "outputs": []
    },
    {
      "cell_type": "code",
      "metadata": {
        "id": "SFgbWDwpayUk",
        "outputId": "a8a3fc49-e20f-4298-e71c-77a932818538",
        "colab": {
          "base_uri": "https://localhost:8080/",
          "height": 297
        }
      },
      "source": [
        "matrix()"
      ],
      "execution_count": 47,
      "outputs": [
        {
          "output_type": "display_data",
          "data": {
            "image/png": "[encoded data removed]",
            "text/plain": [
              "<Figure size 432x288 with 2 Axes>"
            ]
          },
          "metadata": {
            "tags": [],
            "needs_background": "light"
          }
        }
      ]
    },
    {
      "cell_type": "code",
      "metadata": {
        "id": "ETESkL4Aay3Y",
        "outputId": "6a459b95-56ce-4aad-c3d9-10e197c16684",
        "colab": {
          "base_uri": "https://localhost:8080/",
          "height": 52
        }
      },
      "source": [
        "confusionmatrix = confusion_matrix(y_true, y_pred)\n",
        "confusionmatrix"
      ],
      "execution_count": 48,
      "outputs": [
        {
          "output_type": "execute_result",
          "data": {
            "text/plain": [
              "array([[6714,  447],\n",
              "       [ 841, 1998]])"
            ]
          },
          "metadata": {
            "tags": []
          },
          "execution_count": 48
        }
      ]
    },
    {
      "cell_type": "code",
      "metadata": {
        "id": "9bIqePOba3vB",
        "outputId": "24de5363-6419-42ea-8995-69bf7b92b7cd",
        "colab": {
          "base_uri": "https://localhost:8080/",
          "height": 173
        }
      },
      "source": [
        "# Classification Report\n",
        "\n",
        "from sklearn.metrics import classification_report\n",
        "report = classification_report(y_true=y_true, y_pred=y_pred, target_names=['negative', 'positive'])\n",
        "print(report)"
      ],
      "execution_count": 49,
      "outputs": [
        {
          "output_type": "stream",
          "text": [
            "              precision    recall  f1-score   support\n",
            "\n",
            "    negative       0.89      0.94      0.91      7161\n",
            "    positive       0.82      0.70      0.76      2839\n",
            "\n",
            "    accuracy                           0.87     10000\n",
            "   macro avg       0.85      0.82      0.83     10000\n",
            "weighted avg       0.87      0.87      0.87     10000\n",
            "\n"
          ],
          "name": "stdout"
        }
      ]
    },
    {
      "cell_type": "markdown",
      "metadata": {
        "id": "II24b5MrxJ7n"
      },
      "source": [
        "Create Train/ Valid/ Test for XGBoost"
      ]
    },
    {
      "cell_type": "code",
      "metadata": {
        "id": "1bQle022xI80"
      },
      "source": [
        "train_path = 'train_dir'\n",
        "valid_path = 'val_dir'\n",
        "test_path = 'test_dir'\n",
        "\n",
        "num_train_samples = len(df_train)\n",
        "num_val_samples = len(df_val)\n",
        "num_test_samples = len(df_test)\n",
        "\n",
        "train_batch_size = 10000\n",
        "val_batch_size = 100\n",
        "test_batch_size = 1000\n",
        "\n",
        "train_steps = np.ceil(num_train_samples / train_batch_size)\n",
        "val_steps = np.ceil(num_val_samples / val_batch_size)\n",
        "test_steps = np.ceil(num_test_samples / test_batch_size)"
      ],
      "execution_count": 50,
      "outputs": []
    },
    {
      "cell_type": "code",
      "metadata": {
        "id": "YaDUgCdUxdVq",
        "outputId": "1b6dc58d-e54f-422c-bef5-add4a95ed851",
        "colab": {
          "base_uri": "https://localhost:8080/",
          "height": 69
        }
      },
      "source": [
        "datagen = ImageDataGenerator(preprocessing_function=keras.applications.resnet50.preprocess_input,\n",
        "                             horizontal_flip=True,\n",
        "                             vertical_flip=True, \n",
        "                             fill_mode='nearest')\n",
        "\n",
        "train_batches_transfer = datagen.flow_from_directory(train_path,\n",
        "                                                     target_size=(image_size, image_size),\n",
        "                                                     batch_size=train_batch_size)\n",
        "\n",
        "valid_batches_transfer = datagen.flow_from_directory(valid_path,\n",
        "                                                     target_size=(image_size, image_size),\n",
        "                                                     batch_size=val_batch_size)\n",
        "\n",
        "test_batches_transfer = datagen.flow_from_directory(test_path,\n",
        "                                                    target_size=(image_size, image_size),\n",
        "                                                    batch_size=test_batch_size,\n",
        "                                                    shuffle=False) # test dataset should not be shuffled"
      ],
      "execution_count": 51,
      "outputs": [
        {
          "output_type": "stream",
          "text": [
            "Found 383171 images belonging to 2 classes.\n",
            "Found 1000 images belonging to 2 classes.\n",
            "Found 10000 images belonging to 2 classes.\n"
          ],
          "name": "stdout"
        }
      ]
    },
    {
      "cell_type": "code",
      "metadata": {
        "id": "_fdngpuxxqkl"
      },
      "source": [
        "X_train, y_train = next(train_batches_transfer)\n",
        "X_test, y_test = next(test_batches_transfer)\n",
        "X_val, y_val = next(valid_batches_transfer)"
      ],
      "execution_count": 52,
      "outputs": []
    },
    {
      "cell_type": "markdown",
      "metadata": {
        "id": "4nk8mb4H4J4F"
      },
      "source": [
        "# Applying XGBoost"
      ]
    },
    {
      "cell_type": "code",
      "metadata": {
        "id": "0WnMEq_W4VUR",
        "outputId": "016dc9ac-274a-40b1-bfdc-cb8bb39f51fe",
        "colab": {
          "base_uri": "https://localhost:8080/",
          "height": 69
        }
      },
      "source": [
        "#Mengambil layer terakhir dari model\n",
        "model_feat = Model(inputs=transfer.input,outputs=transfer.get_layer\n",
        "\n",
        "('dense_1').output)\n",
        "\n",
        "feat_train = model_feat.predict(X_train)\n",
        "print(feat_train.shape)\n",
        "\n",
        "feat_test = model_feat.predict(X_test)\n",
        "print(feat_test.shape)\n",
        "\n",
        "feat_val = model_feat.predict(X_val)\n",
        "print(feat_val.shape)\n"
      ],
      "execution_count": 120,
      "outputs": [
        {
          "output_type": "stream",
          "text": [
            "(10000, 2)\n",
            "(1000, 2)\n",
            "(100, 2)\n"
          ],
          "name": "stdout"
        }
      ]
    },
    {
      "cell_type": "code",
      "metadata": {
        "id": "bY_pJHrcr8ag",
        "outputId": "f3c8077b-d312-431f-dcbe-e27ed360d064",
        "colab": {
          "base_uri": "https://localhost:8080/",
          "height": 34
        }
      },
      "source": [
        "import xgboost as xgb\n",
        "from xgboost import XGBClassifier\n",
        "\n",
        "xgbc = xgb.XGBClassifier()\n",
        "\n",
        "xgbc.fit(feat_train,np.argmax(y_train,axis=1))\n",
        "\n",
        "print('fitting done !!!')"
      ],
      "execution_count": 121,
      "outputs": [
        {
          "output_type": "stream",
          "text": [
            "fitting done !!!\n"
          ],
          "name": "stdout"
        }
      ]
    },
    {
      "cell_type": "code",
      "metadata": {
        "id": "24JnXZFnsdG4",
        "outputId": "eaa7e61e-6de0-455e-d693-4bc750a916dd",
        "colab": {
          "base_uri": "https://localhost:8080/",
          "height": 34
        }
      },
      "source": [
        "print(f'Training Accuracy after XGBoost: {xgbc.score(feat_train,np.argmax(y_train,axis=1)):1.2f}%')\n"
      ],
      "execution_count": 122,
      "outputs": [
        {
          "output_type": "stream",
          "text": [
            "Training Accuracy after XGBoost: 0.91%\n"
          ],
          "name": "stdout"
        }
      ]
    },
    {
      "cell_type": "code",
      "metadata": {
        "id": "wunfDek_si-Y",
        "outputId": "3bec9d83-727e-4805-d2a2-cfb841c42396",
        "colab": {
          "base_uri": "https://localhost:8080/",
          "height": 34
        }
      },
      "source": [
        "print(f'Validation Accuracy after XGBoost: {xgbc.score(feat_val,np.argmax(y_val,axis=1)):1.2f}%')"
      ],
      "execution_count": 123,
      "outputs": [
        {
          "output_type": "stream",
          "text": [
            "Validation Accuracy after XGBoost: 0.90%\n"
          ],
          "name": "stdout"
        }
      ]
    },
    {
      "cell_type": "code",
      "metadata": {
        "id": "1qBJi4cDuQJQ",
        "outputId": "780f948c-3e1a-4e45-de01-7eeae062ae07",
        "colab": {
          "base_uri": "https://localhost:8080/",
          "height": 34
        }
      },
      "source": [
        "print(f'Testing Accuracy after XGBoost: {xgbc.score(feat_test,np.argmax(y_test,axis=1)):1.2f}%')"
      ],
      "execution_count": 124,
      "outputs": [
        {
          "output_type": "stream",
          "text": [
            "Testing Accuracy after XGBoost: 0.89%\n"
          ],
          "name": "stdout"
        }
      ]
    },
    {
      "cell_type": "code",
      "metadata": {
        "id": "HxxjFlUz5_oZ"
      },
      "source": [
        "Predxgb = xgbc.predict(feat_train)"
      ],
      "execution_count": 125,
      "outputs": []
    },
    {
      "cell_type": "code",
      "metadata": {
        "id": "jaAuzB_U6ZXL"
      },
      "source": [
        "from sklearn.metrics import confusion_matrix\n",
        "pred = transfer.predict(X_train)\n",
        "pred = np.argmax(pred,axis = 1) \n",
        "y_true = np.argmax(y_train,axis = 1)"
      ],
      "execution_count": 126,
      "outputs": []
    },
    {
      "cell_type": "code",
      "metadata": {
        "id": "TlI15I0s6Iak",
        "outputId": "90908f7c-3c46-401a-d1ce-4744f36bd929",
        "colab": {
          "base_uri": "https://localhost:8080/",
          "height": 334
        }
      },
      "source": [
        "CM = confusion_matrix(y_true, Predxgb)\n",
        "from mlxtend.plotting import plot_confusion_matrix\n",
        "\n",
        "fig, ax = plot_confusion_matrix(conf_mat=CM ,  figsize=(5, 5))\n",
        "plt.show()"
      ],
      "execution_count": 127,
      "outputs": [
        {
          "output_type": "display_data",
          "data": {
            "image/png": "[encoded data removed]",
            "text/plain": [
              "<Figure size 360x360 with 1 Axes>"
            ]
          },
          "metadata": {
            "tags": [],
            "needs_background": "light"
          }
        }
      ]
    },
    {
      "cell_type": "code",
      "metadata": {
        "id": "IwONLb7e6qjf",
        "outputId": "24af839c-8d82-45c4-d9ea-2abcbd256003",
        "colab": {
          "base_uri": "https://localhost:8080/",
          "height": 173
        }
      },
      "source": [
        "from sklearn import metrics\n",
        "# Print the precision and recall, among other metrics\n",
        "print(metrics.classification_report(y_true, pred, digits=2,  target_names = [\"IDC\",\"Non IDC\"]))"
      ],
      "execution_count": 128,
      "outputs": [
        {
          "output_type": "stream",
          "text": [
            "              precision    recall  f1-score   support\n",
            "\n",
            "         IDC       0.89      0.94      0.91      5000\n",
            "     Non IDC       0.94      0.88      0.91      5000\n",
            "\n",
            "    accuracy                           0.91     10000\n",
            "   macro avg       0.91      0.91      0.91     10000\n",
            "weighted avg       0.91      0.91      0.91     10000\n",
            "\n"
          ],
          "name": "stdout"
        }
      ]
    }
  ]
}